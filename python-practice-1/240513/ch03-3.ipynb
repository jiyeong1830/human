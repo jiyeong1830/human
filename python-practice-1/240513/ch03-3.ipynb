{
 "cells": [
  {
   "cell_type": "code",
   "execution_count": 1,
   "metadata": {},
   "outputs": [],
   "source": [
    "# for문 학습\n",
    "\n",
    "# for문의 기본 구조\n",
    "# for 변수 in 리스트( 또는 튜플, 문자열):\n",
    "#           수행할_문장 1\n",
    "#           수행할_문장 2\n",
    "#           ..."
   ]
  },
  {
   "cell_type": "code",
   "execution_count": 2,
   "metadata": {},
   "outputs": [
    {
     "name": "stdout",
     "output_type": "stream",
     "text": [
      "one\n",
      "two\n",
      "three\n"
     ]
    }
   ],
   "source": [
    "# 전형적인 for 문\n",
    "test_list = ['one', 'two', 'three'] \n",
    "for i in test_list: \n",
    "    print(i)"
   ]
  },
  {
   "cell_type": "code",
   "execution_count": 4,
   "metadata": {},
   "outputs": [
    {
     "name": "stdout",
     "output_type": "stream",
     "text": [
      "3\n",
      "7\n",
      "11\n"
     ]
    }
   ],
   "source": [
    "# 다양한 for 문의 사용\n",
    "a = [(1,2), (3,4), (5,6)]\n",
    "for (X, Y) in a:\n",
    "    print(X + Y)"
   ]
  },
  {
   "cell_type": "code",
   "execution_count": 5,
   "metadata": {},
   "outputs": [
    {
     "name": "stdout",
     "output_type": "stream",
     "text": [
      "1번 학생은 합격입니다.\n",
      "2번 학생은 불합격입니다.\n",
      "3번 학생은 합격입니다.\n",
      "4번 학생은 불합격입니다.\n",
      "5번 학생은 합격입니다.\n"
     ]
    }
   ],
   "source": [
    "# for 문의 응용\n",
    "# marks1.py\n",
    "marks = [90, 25, 67, 45, 80]   # 학생들의 시험 점수 리스트\n",
    "\n",
    "number = 0   # 학생에게 붙여 줄 번호\n",
    "for mark in marks:   # 90, 25, 67, 45, 80을 순서대로 mark에 대입\n",
    "    number = number +1 \n",
    "    if mark >= 60: \n",
    "        print(\"%d번 학생은 합격입니다.\" % number)\n",
    "    else: \n",
    "        print(\"%d번 학생은 불합격입니다.\" % number)"
   ]
  },
  {
   "cell_type": "code",
   "execution_count": 6,
   "metadata": {},
   "outputs": [
    {
     "name": "stdout",
     "output_type": "stream",
     "text": [
      "1번 학생 축하합니다. 합격입니다. \n",
      "3번 학생 축하합니다. 합격입니다. \n",
      "5번 학생 축하합니다. 합격입니다. \n"
     ]
    }
   ],
   "source": [
    "# for 문과 continue문\n",
    "# mark s2.py\n",
    "marks = [90, 25, 67, 45, 80]\n",
    "\n",
    "number = 0 \n",
    "for mark in marks: \n",
    "    number = number +1 \n",
    "    if mark < 60:\n",
    "        continue \n",
    "    print(\"%d번 학생 축하합니다. 합격입니다. \" % number)"
   ]
  },
  {
   "cell_type": "code",
   "execution_count": 7,
   "metadata": {},
   "outputs": [
    {
     "name": "stdout",
     "output_type": "stream",
     "text": [
      "1번 학생 축하합니다. 합격입니다. \n"
     ]
    }
   ],
   "source": [
    "marks = [90, 25, 67, 45, 80]\n",
    "\n",
    "number = 0 \n",
    "for mark in marks: \n",
    "    number = number +1 \n",
    "    if mark < 60:\n",
    "        break\n",
    "    print(\"%d번 학생 축하합니다. 합격입니다. \" % number)"
   ]
  },
  {
   "cell_type": "code",
   "execution_count": 8,
   "metadata": {},
   "outputs": [
    {
     "data": {
      "text/plain": [
       "range(0, 10)"
      ]
     },
     "execution_count": 8,
     "metadata": {},
     "output_type": "execute_result"
    }
   ],
   "source": [
    "# for 문과 함께 자주 사용하는 range 함수\n",
    "a = range(10)   # 0~9\n",
    "a"
   ]
  },
  {
   "cell_type": "code",
   "execution_count": 9,
   "metadata": {},
   "outputs": [],
   "source": [
    "# range 함수의 예시 살펴보기\n",
    "add = 0 \n",
    "for i in range(1, 11):   # 1~ 10\n",
    "    add = add + i        # 1~ 10 까지 더한 값\n",
    "add # 1 + 2 + 3 + 4 + ... + 9 + 10 = 55"
   ]
  },
  {
   "cell_type": "code",
   "execution_count": 12,
   "metadata": {},
   "outputs": [
    {
     "name": "stdout",
     "output_type": "stream",
     "text": [
      "1번 학생 축하합니다. 합격입니다.\n",
      "3번 학생 축하합니다. 합격입니다.\n",
      "5번 학생 축하합니다. 합격입니다.\n"
     ]
    }
   ],
   "source": [
    "# range 함수와 리스트 자료형 같이 사용하기\n",
    "# marks3. py\n",
    "marks = [90, 25, 67, 45, 80]\n",
    "for number in range(len(marks)): # 0 ~ 4\n",
    "    if marks[number] < 60:\n",
    "        continue\n",
    "    print(\"%d번 학생 축하합니다. 합격입니다.\" % (number + 1))"
   ]
  },
  {
   "cell_type": "code",
   "execution_count": 14,
   "metadata": {},
   "outputs": [
    {
     "name": "stdout",
     "output_type": "stream",
     "text": [
      "1\n",
      "3\n",
      "5\n",
      "7\n",
      "9\n"
     ]
    }
   ],
   "source": [
    "#  인수가 3개 있는 range 함수 사용하기\n",
    "for a in range (1, 10, 2): # 증가가 2인 9 까지의 리스트\n",
    "    print(a)"
   ]
  },
  {
   "cell_type": "code",
   "execution_count": 17,
   "metadata": {},
   "outputs": [
    {
     "name": "stdout",
     "output_type": "stream",
     "text": [
      "2, end =  단: \n",
      "24681012141618\n",
      "3, end =  단: \n",
      "369121518212427\n",
      "4, end =  단: \n",
      "4812162024283236\n",
      "5, end =  단: \n",
      "51015202530354045\n",
      "6, end =  단: \n",
      "61218243036424854\n",
      "7, end =  단: \n",
      "71421283542495663\n",
      "8, end =  단: \n",
      "81624324048566472\n",
      "9, end =  단: \n",
      "91827364554637281\n"
     ]
    }
   ],
   "source": [
    "# 구구단\n",
    "for i in range(2, 10):     # 1번 for 문\n",
    "    print( i, \" 단: \", sep = \", end = \")\n",
    "    for j in range(1, 10):  # 2번 for문\n",
    "        print ( i * j, end = \"\")\n",
    "    print('')"
   ]
  },
  {
   "cell_type": "code",
   "execution_count": 19,
   "metadata": {},
   "outputs": [
    {
     "name": "stdout",
     "output_type": "stream",
     "text": [
      "[3, 6, 9, 12]\n"
     ]
    }
   ],
   "source": [
    "# 리스트 컴프리헨션 사용하기\n",
    "# a = [1,2,3,4]\n",
    "# result = []\n",
    "# for num in a:\n",
    "#     result.append(num*3)\n",
    "# print(result)\n",
    "\n",
    "a = [1,2,3,4]\n",
    "result = [num * 3 for num in a]\n",
    "print(result)"
   ]
  },
  {
   "cell_type": "code",
   "execution_count": 20,
   "metadata": {},
   "outputs": [
    {
     "name": "stdout",
     "output_type": "stream",
     "text": [
      "[6, 12]\n"
     ]
    }
   ],
   "source": [
    "# 리스트 컴프리헨션 사용하기 2\n",
    "a = [1,2,3,4]\n",
    "result = [num * 3 for num in a if num % 2 == 0]\n",
    "print(result)"
   ]
  },
  {
   "cell_type": "code",
   "execution_count": 23,
   "metadata": {},
   "outputs": [
    {
     "name": "stdout",
     "output_type": "stream",
     "text": [
      "[2, 4, 6, 8, 10, 12, 14, 16, 18, 3, 6, 9, 12, 15, 18, 21, 24, 27, 4, 8, 12, 16, 20, 24, 28, 32, 36, 5, 10, 15, 20, 25, 30, 35, 40, 45, 6, 12, 18, 24, 30, 36, 42, 48, 54, 7, 14, 21, 28, 35, 42, 49, 56, 63, 8, 16, 24, 32, 40, 48, 56, 64, 72, 9, 18, 27, 36, 45, 54, 63, 72, 81]\n"
     ]
    }
   ],
   "source": [
    "# 리스트 컴프리헨션 사용하기 3\n",
    "# 구구 단의 모든 결과를 리스트에 담기\n",
    "result = [x*y for x in range(2, 10)\n",
    "              for y in range(1, 10)]\n",
    "print(result)"
   ]
  },
  {
   "cell_type": "code",
   "execution_count": 33,
   "metadata": {},
   "outputs": [
    {
     "name": "stdout",
     "output_type": "stream",
     "text": [
      "789.0\n"
     ]
    }
   ],
   "source": [
    "# 문제 1\n",
    "# A 학급에 총 10명의 학생이 있다. 이 학생들의 중간고사 점수는 다음과 같다.\n",
    "# [70, 60, 55, 75, 95, 90, 80, 80, 85, 100]\n",
    "# for문을 사용하여 A학급의 평균 점수를 구해보자\n",
    "# 점수의 합계 / 점수 개수 = 평균점수\n",
    "list1 = [70, 60, 55, 75, 95, 90, 80, 80, 85, 99]\n",
    "count = len ([list1])    # 점수의 개수 -> 10\n",
    "sum = 0\n",
    "\n",
    "for b in list1:\n",
    "    sum += b             # 점수의 합계\n",
    "print(sum / count) "
   ]
  },
  {
   "cell_type": "code",
   "execution_count": 36,
   "metadata": {},
   "outputs": [
    {
     "name": "stdout",
     "output_type": "stream",
     "text": [
      "[2, 6, 10]\n"
     ]
    }
   ],
   "source": [
    "# 문제2\n",
    "# 다음 소스 코드는 리스트의 요소 중에서 홀수만 골라 2를 곱한 값을 result 리스트에 담는 예제\n",
    "# numbers = [1, 2, 3, 4, 5]\n",
    "# result = []\n",
    "# for n in numbers:\n",
    "#     if n % 2 == 1:\n",
    "#         result.append(n * 2)\n",
    "# 위의 코드를 리스트 컴프리헨션을 사용하여 코드를 작성해 보시오\n",
    "\n",
    "numbers = [1, 2, 3, 4, 5]\n",
    "result = [numbers * 2 for numbers in numbers if numbers % 2 == 1]\n",
    "print (result)"
   ]
  }
 ],
 "metadata": {
  "kernelspec": {
   "display_name": "base",
   "language": "python",
   "name": "python3"
  },
  "language_info": {
   "codemirror_mode": {
    "name": "ipython",
    "version": 3
   },
   "file_extension": ".py",
   "mimetype": "text/x-python",
   "name": "python",
   "nbconvert_exporter": "python",
   "pygments_lexer": "ipython3",
   "version": "3.11.7"
  }
 },
 "nbformat": 4,
 "nbformat_minor": 2
}
