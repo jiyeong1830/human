{
 "cells": [
  {
   "cell_type": "code",
   "execution_count": 4,
   "metadata": {},
   "outputs": [
    {
     "name": "stdout",
     "output_type": "stream",
     "text": [
      "140734124638984\n",
      "140734124639016\n"
     ]
    }
   ],
   "source": [
    "# 자료형의 값을 저장하는  공간, 변수\n",
    "# int a = 0; # C와 java의 문법\n",
    "a = 0 # python 문법\n",
    "print(id(a))\n",
    "\n",
    "b = 1\n",
    "print(id(b))"
   ]
  },
  {
   "cell_type": "code",
   "execution_count": 11,
   "metadata": {},
   "outputs": [
    {
     "name": "stdout",
     "output_type": "stream",
     "text": [
      "1178257069824\n",
      "1178257069824\n",
      "[1, 2, 3]\n",
      "[1, 2, 3]\n",
      "True\n"
     ]
    }
   ],
   "source": [
    "# 리스트를 복사하고자 할 때\n",
    "a = [1, 2, 3]\n",
    "b = a    #주소를 복사(Call By Reference)\n",
    "\n",
    "print(id(a))\n",
    "print(id(b))\n",
    "\n",
    "print(a)\n",
    "print(b)\n",
    "\n",
    "print(a is b) # 주소가 같은지 비교"
   ]
  },
  {
   "cell_type": "code",
   "execution_count": 12,
   "metadata": {},
   "outputs": [
    {
     "name": "stdout",
     "output_type": "stream",
     "text": [
      "[1, 4, 3]\n",
      "[1, 4, 3]\n"
     ]
    }
   ],
   "source": [
    "a[1] = 4\n",
    "print(a) # [1,4,3]\n",
    "print(b) # 실제 b의 1인덱스의 값(2 -> 4)도 변함 [1,4,3]"
   ]
  },
  {
   "cell_type": "code",
   "execution_count": 15,
   "metadata": {},
   "outputs": [
    {
     "name": "stdout",
     "output_type": "stream",
     "text": [
      "[1, 4, 3]\n",
      "[1, 2, 3]\n"
     ]
    }
   ],
   "source": [
    "# 값에 의한 복사(Call By Value)\n",
    "# 1. [:] 이용하기\n",
    "a = [1, 2, 3]\n",
    "b = a[:]\n",
    "\n",
    "a[1] = 4\n",
    "print(a)\n",
    "print(b)"
   ]
  },
  {
   "cell_type": "code",
   "execution_count": 19,
   "metadata": {},
   "outputs": [
    {
     "data": {
      "text/plain": [
       "False"
      ]
     },
     "execution_count": 19,
     "metadata": {},
     "output_type": "execute_result"
    }
   ],
   "source": [
    "# 값에 의한 복사(Call By Value)\n",
    "#  2. copy 모듈 이용하기\n",
    "from copy import copy\n",
    "\n",
    "a = [1, 2, 3]\n",
    "b = copy(a)    # b = a[:]와 같다\n",
    "b = a. copy()  # a가 리스트인 경우만 사용. b = a[:]와 같다.\n",
    "\n",
    "b is a"
   ]
  },
  {
   "cell_type": "code",
   "execution_count": 23,
   "metadata": {},
   "outputs": [
    {
     "name": "stdout",
     "output_type": "stream",
     "text": [
      "[1, 4, 3]\n"
     ]
    }
   ],
   "source": [
    "# 문제 1\n",
    "# 아래 print(b)했을 경우 어떤 값이 출력되는지 적어보시오\n",
    "a = b  = [1, 2, 3]   # 주소에 의한 복사\n",
    "a[1] = 4\n",
    "print(b)\n",
    "# [4, 2, 3]"
   ]
  },
  {
   "cell_type": "code",
   "execution_count": 24,
   "metadata": {},
   "outputs": [
    {
     "name": "stdout",
     "output_type": "stream",
     "text": [
      "python\n",
      "life\n",
      "python\n",
      "python\n",
      "5\n",
      "3\n"
     ]
    }
   ],
   "source": [
    "# 변수를 만드는 여러가지 방법\n",
    "a,b = ('python', 'life')\n",
    "(a,b) = 'python', 'life'\n",
    "print(a)    # python\n",
    "print(b)    # life\n",
    "\n",
    "[a, b] = ['python', 'life']\n",
    "a = b = 'python'\n",
    "print(a)     # python\n",
    "print(b)     # python\n",
    "\n",
    "a = 3\n",
    "b = 5\n",
    "a, b = b, a  # swap\n",
    "print(a)     # 5\n",
    "print(b)     # 3\n"
   ]
  }
 ],
 "metadata": {
  "kernelspec": {
   "display_name": "base",
   "language": "python",
   "name": "python3"
  },
  "language_info": {
   "codemirror_mode": {
    "name": "ipython",
    "version": 3
   },
   "file_extension": ".py",
   "mimetype": "text/x-python",
   "name": "python",
   "nbconvert_exporter": "python",
   "pygments_lexer": "ipython3",
   "version": "3.11.7"
  }
 },
 "nbformat": 4,
 "nbformat_minor": 2
}
