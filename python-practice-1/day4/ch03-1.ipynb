{
 "cells": [
  {
   "cell_type": "code",
   "execution_count": 1,
   "metadata": {},
   "outputs": [
    {
     "name": "stdout",
     "output_type": "stream",
     "text": [
      "택시를 타고 가라\n"
     ]
    }
   ],
   "source": [
    "# if 제어문\n",
    "# '돈이 없으면 택시 타고 가고, 돈이없으면 걸어간다.'\n",
    "money = True\n",
    "if money:\n",
    "    print(\"택시를 타고 가라\")\n",
    "else:\n",
    "    print(\"걸어 가라\")"
   ]
  },
  {
   "cell_type": "code",
   "execution_count": 3,
   "metadata": {},
   "outputs": [
    {
     "name": "stdout",
     "output_type": "stream",
     "text": [
      "연어를 먹어라\n"
     ]
    }
   ],
   "source": [
    "hungry = True\n",
    "if hungry:\n",
    "    print(\"연어를 먹어라\")\n",
    "else:\n",
    "    print(\"낮잠자라\")"
   ]
  },
  {
   "cell_type": "code",
   "execution_count": 8,
   "metadata": {},
   "outputs": [
    {
     "name": "stdout",
     "output_type": "stream",
     "text": [
      "찹쌀이를 쓰다듬어라\n",
      "너무 귀여워\n"
     ]
    }
   ],
   "source": [
    "tierd = True\n",
    "if tierd:\n",
    "    print(\"찹쌀이를 쓰다듬어라\")\n",
    "    print(\"너무 귀여워\")\n",
    "else:\n",
    "    print(\"찹쌀이를 만져라\")\n",
    "    print(\"짱 귀여워\")"
   ]
  },
  {
   "cell_type": "code",
   "execution_count": 6,
   "metadata": {},
   "outputs": [
    {
     "name": "stdout",
     "output_type": "stream",
     "text": [
      "택시를 타고 가라\n",
      "알겠어\n"
     ]
    }
   ],
   "source": [
    "# if 문의 기본 구조\n",
    "money = True\n",
    "if money:\n",
    "    print(\"택시를 타고 가라\")\n",
    "    print(\"알겠어\")\n",
    "else:\n",
    "    print(\"걸어 가라\")\n",
    "    print(\"걸어가면 다리가 아파\")"
   ]
  },
  {
   "cell_type": "code",
   "execution_count": 9,
   "metadata": {},
   "outputs": [
    {
     "name": "stdout",
     "output_type": "stream",
     "text": [
      "택시를 타고 가라\n",
      "알겠어\n",
      "힘들다\n"
     ]
    }
   ],
   "source": [
    "# 들여쓰기 방법 알아보기\n",
    "# error 케이스\n",
    "money = True\n",
    "if money:\n",
    "    print(\"택시를 타고 가라\")\n",
    "print(\"알겠어\")\n",
    "print(\"힘들다\")"
   ]
  },
  {
   "cell_type": "code",
   "execution_count": 11,
   "metadata": {},
   "outputs": [],
   "source": [
    "# error 케이스 2\n",
    "# money = True\n",
    "# if money:\n",
    "#     print(\"택시를 타고 가라\")\n",
    "#     print(\"알겠어\")\n",
    "#         print(\"힘들다\")"
   ]
  },
  {
   "cell_type": "code",
   "execution_count": 12,
   "metadata": {},
   "outputs": [
    {
     "name": "stdout",
     "output_type": "stream",
     "text": [
      "True\n",
      "False\n",
      "True\n"
     ]
    }
   ],
   "source": [
    "x = 3\n",
    "y = 2\n",
    "\n",
    "print(x > y)\n",
    "print(x == y)\n",
    "print(x != y)"
   ]
  },
  {
   "cell_type": "code",
   "execution_count": 16,
   "metadata": {},
   "outputs": [
    {
     "name": "stdout",
     "output_type": "stream",
     "text": [
      "택시를 타고가라\n"
     ]
    }
   ],
   "source": [
    "# 문제 1\n",
    "# 만약 3000원 이상의 돈을 가지고 있으면 택시를 타고가고, 그렇지않으면 걸어가라\n",
    "# 위의 문장을 if문 코드로 작성하기\n",
    "money = 4000              # money 변수는 돈을 가리킴\n",
    "if money >= 3000:\n",
    "    print(\"택시를 타고가라\")\n",
    "else:\n",
    "    print(\"걸어가라\")"
   ]
  },
  {
   "cell_type": "code",
   "execution_count": 17,
   "metadata": {},
   "outputs": [
    {
     "name": "stdout",
     "output_type": "stream",
     "text": [
      "택시를 타고 가라\n"
     ]
    }
   ],
   "source": [
    "# 논리 연산자(and, or, not)\n",
    "money = 2000\n",
    "card = True\n",
    "if money >= 3000 or card: # or 연산자는 피연산자 중 하나만 참이어도 출력된다.\n",
    "    print(\"택시를 타고 가라\")\n",
    "else:\n",
    "    print(\"걸어가라\")"
   ]
  },
  {
   "cell_type": "code",
   "execution_count": 23,
   "metadata": {},
   "outputs": [
    {
     "name": "stdout",
     "output_type": "stream",
     "text": [
      "놀이기구를 타라\n"
     ]
    }
   ],
   "source": [
    "age = 1\n",
    "friend = True\n",
    "if age >= 10 or friend:\n",
    "    print(\"놀이기구를 타라\")\n",
    "else:\n",
    "    print(\"츄러스나 먹어라\")"
   ]
  },
  {
   "cell_type": "code",
   "execution_count": 18,
   "metadata": {},
   "outputs": [
    {
     "name": "stdout",
     "output_type": "stream",
     "text": [
      "True\n"
     ]
    }
   ],
   "source": [
    "# 문제 1\n",
    "# 아래 코드의 결과를 예상하라\n",
    "x = 4\n",
    "print(1 < x < 5)"
   ]
  },
  {
   "cell_type": "code",
   "execution_count": 21,
   "metadata": {},
   "outputs": [
    {
     "name": "stdout",
     "output_type": "stream",
     "text": [
      "False\n"
     ]
    }
   ],
   "source": [
    "# 문제 2\n",
    "# 아래 코드의 결과를 예상하라\n",
    "print((3 == 3) and (3 != 3)) # True and True"
   ]
  },
  {
   "cell_type": "code",
   "execution_count": 22,
   "metadata": {},
   "outputs": [
    {
     "name": "stdout",
     "output_type": "stream",
     "text": [
      "False\n"
     ]
    }
   ],
   "source": [
    "# 문제 3\n",
    "# 아래 코드에서 에러가 발생하는 원인에 대해 설명\n",
    "# print(3 => 4)\n",
    "# print(3 = > 4)\n",
    "print(3>= 4)"
   ]
  },
  {
   "cell_type": "code",
   "execution_count": 24,
   "metadata": {},
   "outputs": [
    {
     "name": "stdout",
     "output_type": "stream",
     "text": [
      "1\n",
      "2\n",
      "4\n"
     ]
    }
   ],
   "source": [
    "# 문제 4\n",
    "# 이래의 코드를 예상하라\n",
    "if True:\n",
    "    print(\"1\")\n",
    "    print(\"2\")\n",
    "else:\n",
    "    print(\"3\")\n",
    "print(\"4\")"
   ]
  },
  {
   "cell_type": "code",
   "execution_count": 25,
   "metadata": {},
   "outputs": [
    {
     "name": "stdout",
     "output_type": "stream",
     "text": [
      "1\n",
      "2\n"
     ]
    }
   ],
   "source": [
    "if True:\n",
    "    print(\"1\")\n",
    "    print(\"2\")\n",
    "else:\n",
    "    print(\"3\")\n",
    "    print(\"4\")"
   ]
  },
  {
   "cell_type": "code",
   "execution_count": 2,
   "metadata": {},
   "outputs": [
    {
     "data": {
      "text/plain": [
       "True"
      ]
     },
     "execution_count": 2,
     "metadata": {},
     "output_type": "execute_result"
    }
   ],
   "source": [
    "1 in [1, 2, 3]       # 리스트"
   ]
  },
  {
   "cell_type": "code",
   "execution_count": 6,
   "metadata": {},
   "outputs": [
    {
     "data": {
      "text/plain": [
       "True"
      ]
     },
     "execution_count": 6,
     "metadata": {},
     "output_type": "execute_result"
    }
   ],
   "source": [
    "1 in (1, 2, 3)       # 튜플"
   ]
  },
  {
   "cell_type": "code",
   "execution_count": 3,
   "metadata": {},
   "outputs": [
    {
     "data": {
      "text/plain": [
       "False"
      ]
     },
     "execution_count": 3,
     "metadata": {},
     "output_type": "execute_result"
    }
   ],
   "source": [
    "1 not in [1, 2, 3]   # 리스트"
   ]
  },
  {
   "cell_type": "code",
   "execution_count": 4,
   "metadata": {},
   "outputs": [
    {
     "data": {
      "text/plain": [
       "False"
      ]
     },
     "execution_count": 4,
     "metadata": {},
     "output_type": "execute_result"
    }
   ],
   "source": [
    "1 not in (1, 2, 3)   # 튜플"
   ]
  },
  {
   "cell_type": "code",
   "execution_count": 7,
   "metadata": {},
   "outputs": [
    {
     "data": {
      "text/plain": [
       "True"
      ]
     },
     "execution_count": 7,
     "metadata": {},
     "output_type": "execute_result"
    }
   ],
   "source": [
    "'j' not in 'python'"
   ]
  },
  {
   "cell_type": "code",
   "execution_count": 8,
   "metadata": {},
   "outputs": [
    {
     "name": "stdout",
     "output_type": "stream",
     "text": [
      "택시를 타고 가라\n"
     ]
    }
   ],
   "source": [
    "pocket = ['paper', 'cellphone', 'money']\n",
    "if 'money' in pocket:\n",
    "    print(\"택시를 타고 가라\")\n",
    "else:\n",
    "    print(\"걸어가라\")"
   ]
  },
  {
   "cell_type": "code",
   "execution_count": 9,
   "metadata": {},
   "outputs": [
    {
     "name": "stdout",
     "output_type": "stream",
     "text": [
      "빨리 집에 가라\n"
     ]
    }
   ],
   "source": [
    "house = ['Chapssal', 'cellphone', 'food']\n",
    "if 'Chapssal' in house:\n",
    "    print(\"빨리 집에 가라\")\n",
    "else:\n",
    "    print(\"음식을 사가지고 가라\")"
   ]
  },
  {
   "cell_type": "code",
   "execution_count": 10,
   "metadata": {},
   "outputs": [],
   "source": [
    "pocket = ['paper', 'cellphone', 'money']\n",
    "if 'money' in pocket:\n",
    "    pass\n",
    "else:\n",
    "    print(\"카드를 꺼내라\")"
   ]
  },
  {
   "cell_type": "code",
   "execution_count": 13,
   "metadata": {},
   "outputs": [],
   "source": [
    "house = ['Taeng', 'cellphone', 'food']\n",
    "if 'Chapssal' in house:               # if 'money' not in poket:\n",
    "    print(\"빨리 집에 가라\")            #     print(\"카드를 꺼내라\")\n",
    "else:\n",
    "    pass"
   ]
  },
  {
   "cell_type": "code",
   "execution_count": 23,
   "metadata": {},
   "outputs": [
    {
     "name": "stdout",
     "output_type": "stream",
     "text": [
      "택시를 타고가라\n"
     ]
    }
   ],
   "source": [
    "# 다양한 조건을 판단하는 elif\n",
    "# 주머니에 돈이 있으면 택시를 타고 가고, \n",
    "# 주머니에 돈은 없지만 카드가 있으면 택시를 타고 가고, \n",
    "# 돈도 없고 카드도 없으면 걸어가라.\n",
    "\n",
    "pocket = ['paper', 'cellphone']\n",
    "card = True\n",
    "if 'money' in pocket:\n",
    "    print(\"택시를 타고가라\")\n",
    "else:\n",
    "    if card:\n",
    "        print(\"택시를 타고가라\")\n",
    "    else:\n",
    "        print(\"걸어가라\")"
   ]
  },
  {
   "cell_type": "code",
   "execution_count": 25,
   "metadata": {},
   "outputs": [
    {
     "name": "stdout",
     "output_type": "stream",
     "text": [
      "택시를 타고가라\n",
      "택시를 타고가라\n"
     ]
    }
   ],
   "source": [
    "# 다양한 조건을 판단하는 elif\n",
    "# 주머니에 돈이 있으면 택시를 타고 가고, \n",
    "# 주머니에 돈은 없지만 카드가 있으면 택시를 타고 가고, \n",
    "# 돈도 없고 카드도 없으면 걸어가라.\n",
    "# 1\n",
    "pocket = ['paper', 'cellphone']\n",
    "card = True\n",
    "if 'money' in pocket:\n",
    "    print(\"택시를 타고가라\")\n",
    "elif card: \n",
    "    print(\"택시를 타고가라\")\n",
    "else:\n",
    "    print(\"걸어가라\")\n",
    "# 2\n",
    "if ('money' in pocket) or card:\n",
    "    print(\"택시를 타고가라\")\n",
    "else:\n",
    "    print(\"걸어가라\")"
   ]
  },
  {
   "cell_type": "code",
   "execution_count": 21,
   "metadata": {},
   "outputs": [
    {
     "name": "stdout",
     "output_type": "stream",
     "text": [
      "빨리 집에 가라\n"
     ]
    }
   ],
   "source": [
    "house = ['Chapssal', 'cellphone']\n",
    "food = True\n",
    "if 'Chapssal' in pocket:\n",
    "    print(\"빨리 집에 가라\")\n",
    "elif card: \n",
    "    print(\"빨리 집에 가라\")\n",
    "else:\n",
    "    pass"
   ]
  },
  {
   "cell_type": "code",
   "execution_count": 30,
   "metadata": {},
   "outputs": [],
   "source": [
    "# if 문을 한 줄로 작성하기 (cpu)\n",
    "pocket = ['paper', 'cellphone', 'money']\n",
    "if 'money' in pocket: pass \n",
    "else: print(\"카드를 꺼내라\")"
   ]
  },
  {
   "cell_type": "code",
   "execution_count": 28,
   "metadata": {},
   "outputs": [
    {
     "name": "stdout",
     "output_type": "stream",
     "text": [
      "택시를 타고가라\n"
     ]
    }
   ],
   "source": [
    "pocket = ['paper', 'cellphone']\n",
    "card = True\n",
    "if ('money' in pocket) or card: print(\"택시를 타고가라\")\n",
    "else: print(\"걸어가라\")"
   ]
  },
  {
   "cell_type": "code",
   "execution_count": 35,
   "metadata": {},
   "outputs": [
    {
     "data": {
      "text/plain": [
       "'success'"
      ]
     },
     "execution_count": 35,
     "metadata": {},
     "output_type": "execute_result"
    }
   ],
   "source": [
    "# 조건부 표현식(gpu)\n",
    "# (변수 = 조건문이_참인_경우의_값 if 조건문 else 조건문이_거짓인_경우의_값)\n",
    "score = 70\n",
    "message = \"success\" if score >= 60 else \"failure\"\n",
    "message"
   ]
  },
  {
   "cell_type": "code",
   "execution_count": 37,
   "metadata": {},
   "outputs": [
    {
     "name": "stdout",
     "output_type": "stream",
     "text": [
      "입력값 12\n"
     ]
    }
   ],
   "source": [
    "# input 함수\n",
    "user_input = input(\"입력값을 작성하세요:\")\n",
    "print(\"입력값\", user_input) \n",
    "# input은 일단 대기 후 윗쪽 빈칸에 입력한 다음 enter"
   ]
  },
  {
   "cell_type": "code",
   "execution_count": 38,
   "metadata": {},
   "outputs": [
    {
     "name": "stdout",
     "output_type": "stream",
     "text": [
      "<class 'str'>\n"
     ]
    }
   ],
   "source": [
    "print(type(user_input))"
   ]
  },
  {
   "cell_type": "code",
   "execution_count": 40,
   "metadata": {},
   "outputs": [
    {
     "name": "stdout",
     "output_type": "stream",
     "text": [
      "안녕하세요안녕하세요\n"
     ]
    }
   ],
   "source": [
    "# 문제 5\n",
    "# 사용자로부터 입력받은 문자열을 2번 출력하는 코드를 작성하시오\n",
    "# (ex) -> 안녕하세요-> 안녕하세요 안녕하세요\n",
    "user_input = input(\"입력값을 작성하세요:\")\n",
    "print(user_input * 2)"
   ]
  },
  {
   "cell_type": "code",
   "execution_count": 63,
   "metadata": {},
   "outputs": [
    {
     "data": {
      "text/plain": [
       "18"
      ]
     },
     "execution_count": 63,
     "metadata": {},
     "output_type": "execute_result"
    }
   ],
   "source": [
    "# 문제 6\n",
    "# 사용자로부터 하나의 숫자를 입력받고, 입력 받은 숫자에 10을 더해 출력하라 (함수 int)\n",
    "user_input = input(\"입력값을 작성하세요\")\n",
    "int(user_input) + 10"
   ]
  },
  {
   "cell_type": "code",
   "execution_count": 89,
   "metadata": {},
   "outputs": [
    {
     "name": "stdout",
     "output_type": "stream",
     "text": [
      "홀수\n"
     ]
    }
   ],
   "source": [
    "# 문제 7\n",
    "#사용자로부터 하나의 숫자를 입력 받고 짝수이면 \"짝수\" 출력, 홀수이면 \"홀수\" 출력\n",
    "user_input = input(\"입력값을 작성하세요:\")\n",
    "a = int(user_input) % 2\n",
    "if a == 0:\n",
    "    print(\"짝수\")\n",
    "else:\n",
    "    print(\"홀수\")"
   ]
  },
  {
   "cell_type": "code",
   "execution_count": 86,
   "metadata": {},
   "outputs": [
    {
     "name": "stdout",
     "output_type": "stream",
     "text": [
      "255\n"
     ]
    }
   ],
   "source": [
    "# 문제8\n",
    "# 사용자로부터 숫자 값을 입력받은 후 값에 20을 더한 값을 출력하라\n",
    "# 단, 사용자가 입력한 값과 20을 더한 계산 값이 255를 초과하는 경우 255를 출력\n",
    "user_input = input(\"입력값을 작성하세요:\")\n",
    "a  = int(user_input) + 20\n",
    "if a > 255:\n",
    "    print(255)\n",
    "else:\n",
    "    print(a)"
   ]
  },
  {
   "cell_type": "code",
   "execution_count": 87,
   "metadata": {},
   "outputs": [
    {
     "name": "stdout",
     "output_type": "stream",
     "text": [
      "255\n"
     ]
    }
   ],
   "source": [
    "# 문제9\n",
    "# 사용자로부터 숫자 값을 입력받은 후 값에 20을 뺀 값을 출력하라\n",
    "# 단, 출력 값의 범위는 0~255이다. 예를 들어 결과값이 0보다 작은 값이 되는 경우 0을 출력하고\n",
    "# 255보다 큰 값이 되는 경우 255를 출력하라\n",
    "user_input = input(\"입력값을 작성하세요:\")\n",
    "a = int(user_input) - 20\n",
    "if a < 0:\n",
    "    print(0)\n",
    "elif a > 255:\n",
    "    print(255)\n",
    "else:\n",
    "    print(user_input)"
   ]
  },
  {
   "cell_type": "code",
   "execution_count": 92,
   "metadata": {},
   "outputs": [
    {
     "name": "stdout",
     "output_type": "stream",
     "text": [
      "정각입니다.\n",
      "정각입니다.\n"
     ]
    }
   ],
   "source": [
    "# 문제10\n",
    "# 사용자로부터 입력 받은 시간이 정각인지 판별하라\n",
    "# ex) 출력예시: 입력 -> 02:00    출력 -> 정각입니다.\n",
    "# 입력 -> 03:10    출력 -> 정각이 아닙니다.\n",
    "time = input(\"입력값을 작성하세요:\")\n",
    "if time[2:] == '00':\n",
    "    print(\"정각입니다.\")\n",
    "else:\n",
    "    print(\" 정각이 아닙니다.\")\n",
    "\n",
    "if time[-2:] == '00':\n",
    "    print(\"정각입니다.\")\n",
    "else:\n",
    "    print(\" 정각이 아닙니다.\")"
   ]
  }
 ],
 "metadata": {
  "kernelspec": {
   "display_name": "base",
   "language": "python",
   "name": "python3"
  },
  "language_info": {
   "codemirror_mode": {
    "name": "ipython",
    "version": 3
   },
   "file_extension": ".py",
   "mimetype": "text/x-python",
   "name": "python",
   "nbconvert_exporter": "python",
   "pygments_lexer": "ipython3",
   "version": "3.11.7"
  }
 },
 "nbformat": 4,
 "nbformat_minor": 2
}
