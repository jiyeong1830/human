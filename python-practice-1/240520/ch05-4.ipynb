{
 "cells": [
  {
   "cell_type": "code",
   "execution_count": 3,
   "metadata": {},
   "outputs": [],
   "source": [
    "# 파이썬의 예외처리 방법\n",
    "\n",
    "# 파일이 없는 에러\n",
    "# f = open(\"나없는파일\", 'r')  error"
   ]
  },
  {
   "cell_type": "code",
   "execution_count": 4,
   "metadata": {},
   "outputs": [],
   "source": [
    "# 4/0 error"
   ]
  },
  {
   "cell_type": "code",
   "execution_count": 6,
   "metadata": {},
   "outputs": [],
   "source": [
    "# a = [1,2,3]\n",
    "# a[3]\n",
    "# 0부터 시작, 3번째 값이 없음  error"
   ]
  },
  {
   "cell_type": "code",
   "execution_count": 8,
   "metadata": {},
   "outputs": [
    {
     "name": "stdout",
     "output_type": "stream",
     "text": [
      "division by zero\n"
     ]
    }
   ],
   "source": [
    "# 예외 처리 기본구조\n",
    "# try :\n",
    "#    ...\n",
    "# except [발생오류 [as오류변수]]: # 발생오류의 예(FileNotFoundError, IndexError etc)\n",
    "#    ...\n",
    "\n",
    "try:\n",
    "    4 / 0\n",
    "except ZeroDivisionError as zde:\n",
    "    print(zde)\n",
    "#   print('ZeroDivisionErro:', zde)"
   ]
  },
  {
   "cell_type": "code",
   "execution_count": 9,
   "metadata": {},
   "outputs": [],
   "source": [
    "# 애외처리의 try-finally 문\n",
    "try:\n",
    "    f = open('foo.txt', 'w')\n",
    "    # 무언가를 수행한다\n",
    "finally:\n",
    "    f.close() # 중간에 오류가 발생하든 안하든 무조건 실행된다."
   ]
  },
  {
   "cell_type": "code",
   "execution_count": 15,
   "metadata": {},
   "outputs": [
    {
     "name": "stdout",
     "output_type": "stream",
     "text": [
      "인덱싱 할 수 없습니다.\n",
      "list index out of range\n",
      "list index out of range\n"
     ]
    }
   ],
   "source": [
    "# 예외처리의 여러 개의 오류 처리하기\n",
    "# try :\n",
    "#    ...\n",
    "# except 발샹오류1:\n",
    "#    ...\n",
    "# except 발샹오류2:\n",
    "#    ...\n",
    "\n",
    "# many_error.py\n",
    "try:\n",
    "    a =[1,2]\n",
    "    print(a[3])\n",
    "    4/0\n",
    "except ZeroDivisionError:\n",
    "    print(\"0으로 나눌수없습니다.\")\n",
    "except IndexError:\n",
    "    print(\"인덱싱 할 수 없습니다.\")\n",
    "\n",
    "try:\n",
    "    a =[1,2]\n",
    "    print(a[3])\n",
    "    4/0\n",
    "except ZeroDivisionError as e:\n",
    "    print(e)\n",
    "except IndexError as e:\n",
    "    print(e)\n",
    "\n",
    "try:\n",
    "    a =[1,2]\n",
    "    print(a[3])\n",
    "    4/0\n",
    "except (ZeroDivisionError, IndexError) as e:\n",
    "    print(e)"
   ]
  },
  {
   "cell_type": "code",
   "execution_count": 16,
   "metadata": {},
   "outputs": [
    {
     "name": "stdout",
     "output_type": "stream",
     "text": [
      "환영합니다.\n"
     ]
    }
   ],
   "source": [
    "# 예외 처리의 try-else문\n",
    "# try :\n",
    "#    ...\n",
    "# except [발생오류 [as오류변수]]:\n",
    "#    ...\n",
    "# else:  # 오류가 없을 경우에만 수행\n",
    "#    ...\n",
    "\n",
    "try:\n",
    "    age = int(input('나이를 입력하세요: '))\n",
    "except:  # 에러를 특정하지않아소 모든 에러를 받고싶을 때는 발생오류를 적지 않는다.\n",
    "    print('입력이 정확하지 않습니다.')\n",
    "else:\n",
    "    if age <= 18:\n",
    "        print('미성년자는 출입금지입니다.')\n",
    "    print('환영합니다.')"
   ]
  },
  {
   "cell_type": "code",
   "execution_count": 17,
   "metadata": {},
   "outputs": [],
   "source": [
    "# 파이썬의 오류 회피(무시)하기\n",
    "# error_pass.py\n",
    "try:\n",
    "    f = open(\"나없는파일\", 'r')\n",
    "except FileNotFoundError:\n",
    "    pass"
   ]
  },
  {
   "cell_type": "code",
   "execution_count": 21,
   "metadata": {},
   "outputs": [
    {
     "name": "stdout",
     "output_type": "stream",
     "text": [
      "NotImplementedError가 발생함\n"
     ]
    }
   ],
   "source": [
    "# 파이썬의 오류 일부로 발생 시키기\n",
    "# error_raise.py\n",
    "class Bird:\n",
    "    def fly(self):\n",
    "        raise NotImplementedError\n",
    "    \n",
    "    class Eagle(Bird):\n",
    "        pass\n",
    "\n",
    "    try:\n",
    "        eagle = Eagle()\n",
    "        eagle.fly()\n",
    "# NotImplementedError를 발생시킴\n",
    "    except NotImplementedError:\n",
    "        print(\"NotImplementedError가 발생함\")\n",
    "# 분홍색은 keyword"
   ]
  },
  {
   "cell_type": "code",
   "execution_count": 11,
   "metadata": {},
   "outputs": [
    {
     "name": "stdout",
     "output_type": "stream",
     "text": [
      "천사\n"
     ]
    }
   ],
   "source": [
    "# 파이썬의 사용자 정의 예외 만들기(클래스)\n",
    "class MyError(Exception):  # Excepttion 클래스를 상속받아 사용자 정의 예외 클래스 생성\n",
    "    pass\n",
    "\n",
    "    def say_nick(nick):\n",
    "        if nick == '바보':\n",
    "            raise MyError()\n",
    "        print(nick)\n",
    "\n",
    "    say_nick(\"천사\")\n",
    "    # say_nick(\"바보\")"
   ]
  },
  {
   "cell_type": "code",
   "execution_count": 15,
   "metadata": {},
   "outputs": [],
   "source": [
    "# try:\n",
    "#     say_nick(\"천사\")\n",
    "#     say_nick(\"바보\")\n",
    "# except MyError:\n",
    "#     print(\"허용되지 않는 별명입니다.\")"
   ]
  },
  {
   "cell_type": "code",
   "execution_count": 16,
   "metadata": {},
   "outputs": [],
   "source": [
    "# class MyError(Exception):\n",
    "#     def __str__(self):\n",
    "#         return \"허용되지 않는 범위입니다\"\n",
    "\n",
    "#     try:\n",
    "#         say_nick(\"천사\")\n",
    "#         say_nick(\"바보\")\n",
    "#     except MyError as e:\n",
    "#         print(\"->\", e, \"바보가 입력됨\")"
   ]
  }
 ],
 "metadata": {
  "kernelspec": {
   "display_name": "base",
   "language": "python",
   "name": "python3"
  },
  "language_info": {
   "codemirror_mode": {
    "name": "ipython",
    "version": 3
   },
   "file_extension": ".py",
   "mimetype": "text/x-python",
   "name": "python",
   "nbconvert_exporter": "python",
   "pygments_lexer": "ipython3",
   "version": "3.11.7"
  }
 },
 "nbformat": 4,
 "nbformat_minor": 2
}
