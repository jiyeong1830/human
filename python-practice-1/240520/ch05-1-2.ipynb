{
 "cells": [
  {
   "cell_type": "code",
   "execution_count": 31,
   "metadata": {},
   "outputs": [],
   "source": [
    "# 파이썬 클래스의 상속\n",
    "class FourCal():\n",
    "    def setdata(self, first, second):\n",
    "        self.first = first      # self는 javascript의 this와 비슷하다.\n",
    "        self.second = second\n",
    "\n",
    "    def add(self):\n",
    "        result = self.first + self.second\n",
    "        return result\n",
    "\n",
    "    def sub(self):\n",
    "        result =self.first - self.second\n",
    "        return result\n",
    "    \n",
    "    def mul(self):\n",
    "        result = self.first * self.second\n",
    "        return result\n",
    "    \n",
    "    def div(self):\n",
    "        result = self = self.first / self.second\n",
    "        return result\n",
    "    \n",
    "class MoreFourCal(FourCal):\n",
    "    pass"
   ]
  },
  {
   "cell_type": "code",
   "execution_count": 14,
   "metadata": {},
   "outputs": [],
   "source": [
    "# a = MoreFourCal(4, 2)\n",
    "# print(a.add())  # 4 + 2 = 6\n",
    "# print(a.mul())  # 4 * 2 = 8\n",
    "# print(a.sub())  # 4 - 2 = 2\n",
    "# print(a.div())  # 4 / 2 = 2"
   ]
  },
  {
   "cell_type": "code",
   "execution_count": 21,
   "metadata": {},
   "outputs": [],
   "source": [
    "# 상속한 클래스의 함수 생성하기\n",
    "# class MoreFourCal(FourCal):\n",
    "#     def pow(self):\n",
    "#         result = self.first ** self.second\n",
    "#         return result\n",
    "    \n",
    "# a = MoreFourCal(4, 3)\n",
    "# print(a.pow())  # 4 * 4 * 4= 64\n",
    "# print(a.add())  # 4 + 3 = 7\n"
   ]
  },
  {
   "cell_type": "code",
   "execution_count": 25,
   "metadata": {},
   "outputs": [],
   "source": [
    "# 클래스 안에 메서드 오버라이딩\n",
    "# a = FourCal(4,0)\n",
    "# a.div()  # 4/0"
   ]
  },
  {
   "cell_type": "code",
   "execution_count": 33,
   "metadata": {},
   "outputs": [],
   "source": [
    "class SafeFourCal(FourCal):\n",
    "    def giv (self):   # Fourcal에 있는 div매소드가 없어지고 현재 만들어 진 div메소드로 세팅\n",
    "        if self.second ==0:   # 나누는 값이 0인 경우 0을 리턴하도록 수정\n",
    "            return 0  \n",
    "        else:\n",
    "            self.first / self.second\n",
    "\n",
    "# a = SafeFourCal(4, 0)\n",
    "# a.div()"
   ]
  },
  {
   "cell_type": "code",
   "execution_count": 37,
   "metadata": {},
   "outputs": [
    {
     "name": "stdout",
     "output_type": "stream",
     "text": [
      "김\n",
      "김\n",
      "김\n"
     ]
    }
   ],
   "source": [
    "# 클래스 변수(속성(property))\n",
    "class Family:\n",
    "    lastname = \"김\"\n",
    "\n",
    "print(Family.lastname)\n",
    "\n",
    "a = Family()\n",
    "b = Family()\n",
    "\n",
    "print(a.lastname)\n",
    "print(b.lastname)"
   ]
  },
  {
   "cell_type": "code",
   "execution_count": 38,
   "metadata": {},
   "outputs": [
    {
     "name": "stdout",
     "output_type": "stream",
     "text": [
      "박\n",
      "박\n",
      "박\n"
     ]
    }
   ],
   "source": [
    "Family.lastname = \"박\" # 클래스 변수의 값을 변경\n",
    "print(Family.lastname)\n",
    "print(a.lastname)\n",
    "print(b.lastname)"
   ]
  },
  {
   "cell_type": "code",
   "execution_count": 39,
   "metadata": {},
   "outputs": [
    {
     "name": "stdout",
     "output_type": "stream",
     "text": [
      "최\n",
      "박\n"
     ]
    }
   ],
   "source": [
    "# 객체 변수\n",
    "a.lastname = \"최\"      # 클래스 변수의 값을 변경\n",
    "\n",
    "print(a.lastname)      # 객체 변수의 값을 출력\n",
    "print(Family.lastname) # 클래스 변수의 값을 출력"
   ]
  }
 ],
 "metadata": {
  "kernelspec": {
   "display_name": "base",
   "language": "python",
   "name": "python3"
  },
  "language_info": {
   "codemirror_mode": {
    "name": "ipython",
    "version": 3
   },
   "file_extension": ".py",
   "mimetype": "text/x-python",
   "name": "python",
   "nbconvert_exporter": "python",
   "pygments_lexer": "ipython3",
   "version": "3.11.7"
  }
 },
 "nbformat": 4,
 "nbformat_minor": 2
}
