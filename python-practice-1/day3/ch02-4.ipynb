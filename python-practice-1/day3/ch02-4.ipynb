{
 "cells": [
  {
   "cell_type": "code",
   "execution_count": 9,
   "metadata": {},
   "outputs": [],
   "source": [
    "# 튜플 자료형\n",
    "# cpu 복잡한거 gpu 단순한 사칙연산\n",
    "# 바꿀 수 없다. 바뀔 수 있는 것들은 리스트에, 비뀔 가능성이 없는 것은 튜플에 담는다\n",
    "t1 = ()                           # 빈 튜플\n",
    "t2 = (1,)                         # 1원소를 가진 튜플\n",
    "t3 = (1, 2, 3)                    # 1, 2, 3 원소를 가진 튜플\n",
    "t4 = 1, 2, 3                      # 1, 2, 3 원소를 가진 튜플\n",
    "t5 = ('a', 'b', ('ab', 'cd'))     # 튜플 안의 또 다른 튜플을 가진 튜플\n",
    "# t2 = (1,)처럼 단지 1개의 요소만을 가질 때는 요소 뒤에 쉼표(,)를 반드시 붙여야 한다\n",
    "t6 = tuple([1])                   # 1 정수형 불가 iterable(반복)이 되는 값을 인수로 가짐\n",
    "t7 = (1)                          # 1개는 숫자 혹은 문자형으로 표시\n",
    "t8 = (\"1\")                        # 1개는 숫자 혹은 문자형으로 표시"
   ]
  },
  {
   "cell_type": "code",
   "execution_count": 5,
   "metadata": {},
   "outputs": [
    {
     "name": "stdout",
     "output_type": "stream",
     "text": [
      "()\n",
      "(1,)\n",
      "(1,)\n",
      "1\n",
      "1\n"
     ]
    }
   ],
   "source": [
    "print(t1)\n",
    "print(t2)\n",
    "print(t6)\n",
    "print(t7)\n",
    "print(t8)"
   ]
  },
  {
   "cell_type": "code",
   "execution_count": 8,
   "metadata": {},
   "outputs": [
    {
     "name": "stdout",
     "output_type": "stream",
     "text": [
      "<class 'int'>\n",
      "<class 'int'>\n",
      "<class 'list'>\n",
      "<class 'tuple'>\n",
      "<class 'int'>\n"
     ]
    }
   ],
   "source": [
    "# 변수의 형태를 볼 수 있는 type 함수\n",
    "a = 1               # int\n",
    "b = 1               # str\n",
    "c = [1]             # list\n",
    "d = (1,)            # tuple\n",
    "e = (1)             # int\n",
    "  \n",
    "print(type(a))\n",
    "print(type(b))\n",
    "print(type(c))\n",
    "print(type(d))\n",
    "print(type(e))"
   ]
  },
  {
   "cell_type": "code",
   "execution_count": 11,
   "metadata": {},
   "outputs": [],
   "source": [
    "# 튜플 요소값을 삭제하려 할때 error가 발생\n",
    "# t1 = (1, 2, 'a', 'b')\n",
    "# del t1[0]\n",
    "# t1 = (1, 2, 'a', 'b')\n",
    "# t1[0] = 'c'"
   ]
  },
  {
   "cell_type": "code",
   "execution_count": 12,
   "metadata": {},
   "outputs": [
    {
     "data": {
      "text/plain": [
       "1"
      ]
     },
     "execution_count": 12,
     "metadata": {},
     "output_type": "execute_result"
    }
   ],
   "source": [
    "# 튜플 인덱싱\n",
    "t1 = (1, 2, 'a', 'b')\n",
    "t1[0]"
   ]
  },
  {
   "cell_type": "code",
   "execution_count": 13,
   "metadata": {},
   "outputs": [
    {
     "data": {
      "text/plain": [
       "'b'"
      ]
     },
     "execution_count": 13,
     "metadata": {},
     "output_type": "execute_result"
    }
   ],
   "source": [
    "t1[3]"
   ]
  },
  {
   "cell_type": "code",
   "execution_count": 14,
   "metadata": {},
   "outputs": [
    {
     "data": {
      "text/plain": [
       "(2, 'a', 'b')"
      ]
     },
     "execution_count": 14,
     "metadata": {},
     "output_type": "execute_result"
    }
   ],
   "source": [
    "# 튜플 슬라이싱\n",
    "t1 = (1, 2, 'a', 'b')\n",
    "t1[1:]"
   ]
  },
  {
   "cell_type": "code",
   "execution_count": 15,
   "metadata": {},
   "outputs": [
    {
     "data": {
      "text/plain": [
       "(1, 2, 'a', 'b', 3, 4)"
      ]
     },
     "execution_count": 15,
     "metadata": {},
     "output_type": "execute_result"
    }
   ],
   "source": [
    "# 튜플 더하기\n",
    "t1 = (1, 2, 'a', 'b')\n",
    "t2 = (3, 4)\n",
    "t3 = t1 + t2\n",
    "t3"
   ]
  },
  {
   "cell_type": "code",
   "execution_count": 16,
   "metadata": {},
   "outputs": [
    {
     "data": {
      "text/plain": [
       "(3, 4, 3, 4, 3, 4)"
      ]
     },
     "execution_count": 16,
     "metadata": {},
     "output_type": "execute_result"
    }
   ],
   "source": [
    "# 튜플 곱하기\n",
    "t2 = (3, 4)\n",
    "t3 = t2 * 3\n",
    "t3"
   ]
  },
  {
   "cell_type": "code",
   "execution_count": 18,
   "metadata": {},
   "outputs": [
    {
     "data": {
      "text/plain": [
       "4"
      ]
     },
     "execution_count": 18,
     "metadata": {},
     "output_type": "execute_result"
    }
   ],
   "source": [
    "# 튜플 길이 구하기\n",
    "t1 = (1, 2, 'a', 'b')\n",
    "len(t1)"
   ]
  },
  {
   "cell_type": "code",
   "execution_count": 33,
   "metadata": {},
   "outputs": [],
   "source": [
    "# 문제 1\n",
    "# my_variable 이름의 비어있는 튜플 생성하기\n",
    "my_variable = ()\n",
    "my_variable = tuple()"
   ]
  },
  {
   "cell_type": "code",
   "execution_count": 28,
   "metadata": {},
   "outputs": [
    {
     "name": "stdout",
     "output_type": "stream",
     "text": [
      "(10,)\n"
     ]
    }
   ],
   "source": [
    "# 문제 2\n",
    "# 숫자 10이 저장된 튜플 생성하기\n",
    "t1 = (10,)\n",
    "print(t1)"
   ]
  },
  {
   "cell_type": "code",
   "execution_count": 34,
   "metadata": {},
   "outputs": [
    {
     "data": {
      "text/plain": [
       "tuple"
      ]
     },
     "execution_count": 34,
     "metadata": {},
     "output_type": "execute_result"
    }
   ],
   "source": [
    "# 문제 3\n",
    "# 아래와 같이 t에는 1,2,3,4 데이터가 바인딩되어 있는데 t의 데이터 타입은 무엇인가?\n",
    "# t = 1,2,3,4\n",
    "t = 1,2,3,4\n",
    "type(t)\n"
   ]
  },
  {
   "cell_type": "code",
   "execution_count": 35,
   "metadata": {},
   "outputs": [
    {
     "data": {
      "text/plain": [
       "('A', 'b', 'c')"
      ]
     },
     "execution_count": 35,
     "metadata": {},
     "output_type": "execute_result"
    }
   ],
   "source": [
    "# 문제 4\n",
    "# 변수t에는 아래와 같은 값이 저장되어 있는데 변수 t가 ('A','b','c')튜플을 가리키도록 수정하시오\n",
    "# t = ('a','b','c')\n",
    "t = ('a','b','c')\n",
    "# t(0) = 'A' # error\n",
    "t = ('A','b','c')\n",
    "t"
   ]
  },
  {
   "cell_type": "code",
   "execution_count": 36,
   "metadata": {},
   "outputs": [
    {
     "data": {
      "text/plain": [
       "['삼성전자', 'LG전자', 'SK Hynix']"
      ]
     },
     "execution_count": 36,
     "metadata": {},
     "output_type": "execute_result"
    }
   ],
   "source": [
    "# 문제 5\n",
    "# 아래 튜플을 리스트로 변환하라(list 함수 사용)\n",
    "# interest = ('삼성전자', 'LG전자', 'SK Hynix')\n",
    "interest = ('삼성전자', 'LG전자', 'SK Hynix')\n",
    "list(interest)"
   ]
  },
  {
   "cell_type": "code",
   "execution_count": 38,
   "metadata": {},
   "outputs": [
    {
     "data": {
      "text/plain": [
       "('삼성전자', 'LG전자', 'SK Hynix')"
      ]
     },
     "execution_count": 38,
     "metadata": {},
     "output_type": "execute_result"
    }
   ],
   "source": [
    "# 문제 6\n",
    "# 아래 리스트를 튜플로 변환하라(tuple 함수 사용)\n",
    "# \n",
    "interest = ['삼성전자', 'LG전자', 'SK Hynix']\n",
    "tuple(interest)"
   ]
  },
  {
   "cell_type": "code",
   "execution_count": 40,
   "metadata": {},
   "outputs": [
    {
     "data": {
      "text/plain": [
       "(2, 3, 1, 2)"
      ]
     },
     "execution_count": 40,
     "metadata": {},
     "output_type": "execute_result"
    }
   ],
   "source": [
    "t1 = (2, 3)\n",
    "#t1.append(4)\n",
    "#t1.insert(4)\n",
    "t2 = (1, 2)\n",
    "t1 + t2"
   ]
  },
  {
   "cell_type": "code",
   "execution_count": 42,
   "metadata": {},
   "outputs": [
    {
     "data": {
      "text/plain": [
       "('찹쌀이', '콩떡이', '찐빵이')"
      ]
     },
     "execution_count": 42,
     "metadata": {},
     "output_type": "execute_result"
    }
   ],
   "source": [
    "love = [\"찹쌀이\", \"콩떡이\", \"찐빵이\"]\n",
    "tuple(love)"
   ]
  },
  {
   "cell_type": "code",
   "execution_count": 43,
   "metadata": {},
   "outputs": [
    {
     "data": {
      "text/plain": [
       "['찹쌀이', '콩떡이', '찐빵이']"
      ]
     },
     "execution_count": 43,
     "metadata": {},
     "output_type": "execute_result"
    }
   ],
   "source": [
    "love = (\"찹쌀이\", \"콩떡이\", \"찐빵이\")\n",
    "list(love)"
   ]
  },
  {
   "cell_type": "code",
   "execution_count": 45,
   "metadata": {},
   "outputs": [
    {
     "data": {
      "text/plain": [
       "list"
      ]
     },
     "execution_count": 45,
     "metadata": {},
     "output_type": "execute_result"
    }
   ],
   "source": [
    "love = [\"찹쌀이\", \"콩떡이\", \"찐빵이\"]\n",
    "type(love)"
   ]
  },
  {
   "cell_type": "code",
   "execution_count": 46,
   "metadata": {},
   "outputs": [
    {
     "data": {
      "text/plain": [
       "tuple"
      ]
     },
     "execution_count": 46,
     "metadata": {},
     "output_type": "execute_result"
    }
   ],
   "source": [
    "love = (\"찹쌀이\", \"콩떡이\", \"찐빵이\")\n",
    "type(love)"
   ]
  },
  {
   "cell_type": "code",
   "execution_count": 48,
   "metadata": {},
   "outputs": [
    {
     "name": "stdout",
     "output_type": "stream",
     "text": [
      "('쿠키', '콩떡이', '찐빵이')\n"
     ]
    }
   ],
   "source": [
    "love = (\"찹쌀이\", \"콩떡이\", \"찐빵이\")\n",
    "love = (\"쿠키\", \"콩떡이\", \"찐빵이\")\n",
    "print(love)"
   ]
  },
  {
   "cell_type": "code",
   "execution_count": 1,
   "metadata": {},
   "outputs": [
    {
     "data": {
      "text/plain": [
       "(2, 2, 3)"
      ]
     },
     "execution_count": 1,
     "metadata": {},
     "output_type": "execute_result"
    }
   ],
   "source": [
    "t1 = (2, 2, 3)\n",
    "t1"
   ]
  }
 ],
 "metadata": {
  "kernelspec": {
   "display_name": "base",
   "language": "python",
   "name": "python3"
  },
  "language_info": {
   "codemirror_mode": {
    "name": "ipython",
    "version": 3
   },
   "file_extension": ".py",
   "mimetype": "text/x-python",
   "name": "python",
   "nbconvert_exporter": "python",
   "pygments_lexer": "ipython3",
   "version": "3.11.7"
  }
 },
 "nbformat": 4,
 "nbformat_minor": 2
}
