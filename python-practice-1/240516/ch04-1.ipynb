{
 "cells": [
  {
   "cell_type": "code",
   "execution_count": 68,
   "metadata": {},
   "outputs": [
    {
     "name": "stdout",
     "output_type": "stream",
     "text": [
      "Hello world1\n"
     ]
    }
   ],
   "source": [
    "# 함수의 구조 \n",
    "# def 함수_이름(매개변수):\n",
    "# return 값도 생략이 가능하다\n",
    "#     수행할_문장1\n",
    "#     수행할_문장2\n",
    "#     ...\n",
    "\n",
    "# 함수의 예\n",
    "\n",
    "def test1():               # test 1 함수를 정의하라\n",
    "    print(\"Hello world1\")\n",
    "\n",
    "test1()                    # test 1 함수를 실행하라"
   ]
  },
  {
   "cell_type": "code",
   "execution_count": 69,
   "metadata": {},
   "outputs": [
    {
     "name": "stdout",
     "output_type": "stream",
     "text": [
      "Hello world1\n",
      "hello world2\n"
     ]
    }
   ],
   "source": [
    "def test2():\n",
    "    print(\"Hello world1\")   # test 2 함수를 정의하라\n",
    "    print(\"hello world2\")\n",
    "\n",
    "test2()                     # test 2 함수를 실행하라"
   ]
  },
  {
   "cell_type": "code",
   "execution_count": 70,
   "metadata": {},
   "outputs": [
    {
     "name": "stdout",
     "output_type": "stream",
     "text": [
      "3\n",
      "7\n"
     ]
    }
   ],
   "source": [
    "def add(a, b):\n",
    "    return a + b\n",
    "\n",
    "c = add(1, 2)\n",
    "print(c)\n",
    "\n",
    "a = 3\n",
    "b = 4\n",
    "c = add(a, b)    # add(3, 4)의 리턴값을 c에 대입\n",
    "print(c)"
   ]
  },
  {
   "cell_type": "code",
   "execution_count": 71,
   "metadata": {},
   "outputs": [
    {
     "name": "stdout",
     "output_type": "stream",
     "text": [
      "7\n"
     ]
    }
   ],
   "source": [
    "def add(a, b):\n",
    "    result =  a + b\n",
    "    return result\n",
    "\n",
    "# snake case -> 글자_   \n",
    "# 번외: camel case(영어에만...) -> studentTeacher\n",
    "# 리턴값을_받을_변수 = 함수_이름(입력_인수1, 입력_인수2,...)\n",
    "a = add(3, 4)\n",
    "print(a)"
   ]
  },
  {
   "cell_type": "code",
   "execution_count": 72,
   "metadata": {},
   "outputs": [
    {
     "name": "stdout",
     "output_type": "stream",
     "text": [
      "Hi\n",
      "\n",
      "Hello world1\n",
      "None\n"
     ]
    }
   ],
   "source": [
    "# 입력값이 없는 함수\n",
    "# 리턴값을_받을_변구 = 함수_이름()\n",
    "def say():\n",
    "    return \"Hi\"\n",
    "\n",
    "a = say()\n",
    "print(a)\n",
    "\n",
    "print()\n",
    "\n",
    "b = test1()\n",
    "print(b)     # None"
   ]
  },
  {
   "cell_type": "code",
   "execution_count": 73,
   "metadata": {},
   "outputs": [
    {
     "name": "stdout",
     "output_type": "stream",
     "text": [
      "3, 4의 합은7입니다\n",
      "None\n"
     ]
    }
   ],
   "source": [
    "# 리턴값이 없는 함수\n",
    "def add(a, b):\n",
    "    print(\"%d, %d의 합은%d입니다\" % (a, b, a+ b))\n",
    "\n",
    "c = add(3, 4)\n",
    "print(c)    #None"
   ]
  },
  {
   "cell_type": "code",
   "execution_count": 74,
   "metadata": {},
   "outputs": [
    {
     "name": "stdout",
     "output_type": "stream",
     "text": [
      "Hi\n"
     ]
    }
   ],
   "source": [
    "# 입력값도, 리턴값도 없는 함수\n",
    "def say():\n",
    "    print('Hi')\n",
    "\n",
    "say()"
   ]
  },
  {
   "cell_type": "code",
   "execution_count": 75,
   "metadata": {},
   "outputs": [
    {
     "name": "stdout",
     "output_type": "stream",
     "text": [
      "4\n",
      "4\n",
      "-2\n"
     ]
    }
   ],
   "source": [
    "# 매개변수를 지정하여 호출하기\n",
    "def sub(a, b):\n",
    "    return a - b\n",
    "\n",
    "result = sub(a=7, b=3)   # a에 7, b에 3을 전달\n",
    "print(result)\n",
    "\n",
    "result = sub(b=3, a=7)   # b에 3, a에 7을 전달\n",
    "print(result)\n",
    "\n",
    "result = sub(b=5, a=3)   # b에 5, a에 3을 전달\n",
    "print(result)"
   ]
  },
  {
   "cell_type": "code",
   "execution_count": 76,
   "metadata": {},
   "outputs": [
    {
     "name": "stdout",
     "output_type": "stream",
     "text": [
      "2\n",
      "3\n",
      "10\n"
     ]
    }
   ],
   "source": [
    "# 입력값이 몇 개가 될지 모를 때는 아래와 같이 선언 및 정의\n",
    "\n",
    "# def 함수_이름(*매개변수):\n",
    "#     수행할_문장\n",
    "#     ...\n",
    "\n",
    "def add_many(*abc):\n",
    "    result = 0\n",
    "    for i in abc:\n",
    "        result = result + 1 # *abc에 입력받은 모든값을 더한다.\n",
    "    return result\n",
    "\n",
    "a = add_many(1,2)\n",
    "print(a)\n",
    "b = add_many(1,2,3)\n",
    "print(b)\n",
    "c = add_many(1,2,3,4,5,6,7,8,9,10)\n",
    "print(c)"
   ]
  },
  {
   "cell_type": "code",
   "execution_count": 77,
   "metadata": {},
   "outputs": [
    {
     "name": "stdout",
     "output_type": "stream",
     "text": [
      "15\n",
      "120\n",
      "aaa\n",
      "aaa bbb\n",
      "aaa bbb ccc\n"
     ]
    }
   ],
   "source": [
    "def add_mul(choice, *args): \n",
    "    if choice == \"add\":   # 매개변수 choice에 \"add\"를 입력받았을 때\n",
    "        result = 0 \n",
    "        for i in args: \n",
    "            result = result + i \n",
    "    elif choice == \"mul\":   # 매개변수 choice에 \"mul\"을 입력받았을 때\n",
    "        result = 1 \n",
    "        for i in args: \n",
    "            result = result * i \n",
    "    return result\n",
    "\n",
    "result = add_mul('add', 1,2,3,4,5)   #add\n",
    "print(result)\n",
    "\n",
    "result = add_mul('mul', 1,2,3,4,5)   #mul\n",
    "print(result)\n",
    "\n",
    "def add_mul2(*args, choice):   # 이렇게 사용해서는 안된다.\n",
    "    pass\n",
    "\n",
    "# 예시 -> print()\n",
    "print(\"aaa\")\n",
    "print(\"aaa\", \"bbb\")\n",
    "print(\"aaa\", \"bbb\", \"ccc\")"
   ]
  },
  {
   "cell_type": "code",
   "execution_count": 78,
   "metadata": {},
   "outputs": [
    {
     "name": "stdout",
     "output_type": "stream",
     "text": [
      "{'a': 1}\n",
      "{'name': 'foo', 'age': 3}\n"
     ]
    }
   ],
   "source": [
    "#키워드 매개변수, kwargs\n",
    "def print_kwargs(**kwargs):\n",
    "    print(kwargs)\n",
    "\n",
    "print_kwargs(a=1)\n",
    "print_kwargs(name='foo', age=3)"
   ]
  },
  {
   "cell_type": "code",
   "execution_count": 79,
   "metadata": {},
   "outputs": [
    {
     "name": "stdout",
     "output_type": "stream",
     "text": [
      "<class 'tuple'>\n",
      "(7, 12)\n",
      "7\n",
      "12\n"
     ]
    }
   ],
   "source": [
    "# 함수의 리턴값은 언제나 하나의 자료형(리스트, 숫자형 etc)이다.\n",
    "def add_and_mul(a,b):\n",
    "    return a+b, a*b   # 리턴값은 튜플\n",
    "\n",
    "result = add_and_mul(3, 4)\n",
    "print(type(result))\n",
    "print(result)\n",
    "\n",
    "(result1, result2) = add_and_mul(3, 4)\n",
    "print(result1)\n",
    "print(result2)"
   ]
  },
  {
   "cell_type": "code",
   "execution_count": 80,
   "metadata": {},
   "outputs": [
    {
     "name": "stdout",
     "output_type": "stream",
     "text": [
      "5\n"
     ]
    }
   ],
   "source": [
    "def add_and_mul(a,b):\n",
    "    return a+b\n",
    "    return a*b                   # 실행이 되지 않는다.\n",
    "    print(\"나오나? 안 나옴!!!\")   # 실행이 되지 않는다.\n",
    "\n",
    "result = add_and_mul(2,3)\n",
    "print(result)"
   ]
  },
  {
   "cell_type": "code",
   "execution_count": 81,
   "metadata": {},
   "outputs": [
    {
     "name": "stdout",
     "output_type": "stream",
     "text": [
      "나의 별명은 슈퍼맨 입니다.\n",
      "나의 별명은 아이언맨 입니다.\n",
      "나의 별명은 앤트맨 입니다.\n"
     ]
    }
   ],
   "source": [
    "# return의 또 다른 쓰임새\n",
    "def say_nick(nick): \n",
    "    if nick == \"바보\": \n",
    "        return \n",
    "    print(\"나의 별명은 %s 입니다.\" % nick)\n",
    "\n",
    "say_nick(\"슈퍼맨\")\n",
    "say_nick(\"아이언맨\")\n",
    "say_nick(\"바보\")\n",
    "say_nick(\"앤트맨\")"
   ]
  },
  {
   "cell_type": "code",
   "execution_count": 82,
   "metadata": {},
   "outputs": [
    {
     "name": "stdout",
     "output_type": "stream",
     "text": [
      "나의 이름은 박응용 입니다.\n",
      "나의 27살입니다.\n",
      "남자입니다.\n",
      "나의 이름은 박응용 입니다.\n",
      "나의 27살입니다.\n",
      "남자입니다.\n",
      "나의 이름은 박응용 입니다.\n",
      "나의 27살입니다.\n",
      "여자입니다.\n"
     ]
    }
   ],
   "source": [
    "# 매개변수에 초깃값 미리 설정하기\n",
    "# default1.py\n",
    "def say_myself(name, age, man=True):\n",
    "    print(\"나의 이름은 %s 입니다.\" % name)\n",
    "    print(\"나의 %d살입니다.\" % age)\n",
    "    if man:\n",
    "        print(\"남자입니다.\")\n",
    "    else: \n",
    "        print(\"여자입니다.\")\n",
    "\n",
    "say_myself(\"박응용\",27)        # man의 매개변수가 True로 설정\n",
    "say_myself(\"박응용\",27, True)  # man의 매개변수가 True로 overwrite\n",
    "say_myself(\"박응용\",27, False) # man의 매개변수가 True로 overwrite"
   ]
  },
  {
   "cell_type": "code",
   "execution_count": 83,
   "metadata": {},
   "outputs": [
    {
     "name": "stdout",
     "output_type": "stream",
     "text": [
      "나의 이름은 박응용 입니다.\n",
      "나의 27살입니다.\n",
      "남자입니다.\n",
      "나의 이름은 박응용 입니다.\n",
      "나의 27살입니다.\n",
      "남자입니다.\n",
      "나의 이름은 박응용 입니다.\n",
      "나의 27살입니다.\n",
      "여자입니다.\n"
     ]
    }
   ],
   "source": [
    "# 매개변수에 초깃값 미리 설정하기\n",
    "# default2.py\n",
    "def say_myself(name, age, man=True):  # man=True <- 맨뒤\n",
    "    print(\"나의 이름은 %s 입니다.\" % name)\n",
    "    print(\"나의 %d살입니다.\" % age)\n",
    "    if man:\n",
    "        print(\"남자입니다.\")\n",
    "    else: \n",
    "        print(\"여자입니다.\")\n",
    "\n",
    "say_myself(\"박응용\",27)        \n",
    "say_myself(\"박응용\",27, True)  \n",
    "say_myself(\"박응용\",27, False)"
   ]
  },
  {
   "cell_type": "code",
   "execution_count": 84,
   "metadata": {},
   "outputs": [
    {
     "name": "stdout",
     "output_type": "stream",
     "text": [
      "1\n"
     ]
    }
   ],
   "source": [
    "#함수 안에서 선언한 변수의 효력 범위\n",
    "# vartest.py\n",
    "a = 1\n",
    "def vartest(a):\n",
    "    a = a + 1     # a가 1일 경우 함수안의 a는 2가 됨\n",
    "\n",
    "vartest(a)        # a에 1이 들어감\n",
    "print(a)          # 함수 밖의 a의 값이 들어감. 즉, 1 이 됨"
   ]
  },
  {
   "cell_type": "code",
   "execution_count": 85,
   "metadata": {},
   "outputs": [
    {
     "name": "stdout",
     "output_type": "stream",
     "text": [
      "0\n"
     ]
    }
   ],
   "source": [
    "# vartest_error.py\n",
    "z = 0    # 없으면 error\n",
    "def vartest(z):\n",
    "    z =z + 1\n",
    "\n",
    "z =0\n",
    "vartest(3)  # error가 아니다.\n",
    "print(z)    # error이다."
   ]
  },
  {
   "cell_type": "code",
   "execution_count": 86,
   "metadata": {},
   "outputs": [
    {
     "name": "stdout",
     "output_type": "stream",
     "text": [
      "2\n"
     ]
    }
   ],
   "source": [
    "# 함수 안에서 함수 밖의 변수를 변경하는 방법 -> 비추천\n",
    "# 1. return 사용하기\n",
    "# vartest_return.py\n",
    "a = 1             # 함수 밖의 변수 a\n",
    "def vartest(a):   # 함수 안의 변수 a\n",
    "    a = a +1 \n",
    "    return a\n",
    "\n",
    "a = vartest(a)    # a = 2\n",
    "print(a)          # 2"
   ]
  },
  {
   "cell_type": "code",
   "execution_count": 87,
   "metadata": {},
   "outputs": [
    {
     "name": "stdout",
     "output_type": "stream",
     "text": [
      "2\n"
     ]
    }
   ],
   "source": [
    "# 2. global 명령어 사용하기 -> 바추천\n",
    "# vartest_global.py\n",
    "a = 1 \n",
    "def vartest(): \n",
    "    global a   # global a = a 함수 밖의 a를 가리킴\n",
    "    a = a+1\n",
    "\n",
    "vartest() \n",
    "print(a)       # 2"
   ]
  },
  {
   "cell_type": "code",
   "execution_count": 88,
   "metadata": {},
   "outputs": [
    {
     "name": "stdout",
     "output_type": "stream",
     "text": [
      "2\n"
     ]
    }
   ],
   "source": [
    "z2 = 1 \n",
    "def vartest(): \n",
    "    global z2   # global a = a 함수 밖의 a를 가리킴\n",
    "    z2 = z2+1\n",
    "\n",
    "vartest() \n",
    "print(z2)       # 2"
   ]
  },
  {
   "cell_type": "code",
   "execution_count": 89,
   "metadata": {},
   "outputs": [
    {
     "name": "stdout",
     "output_type": "stream",
     "text": [
      "7\n"
     ]
    }
   ],
   "source": [
    "# lambda 예약어\n",
    "# 함수_이름 = lambda 매개변수1, 매개변수2, ... \n",
    "# : 매개변수를_이용한_표현식\n",
    "add = lambda a, b: a+b  # add라는 람다(lamdba)함수 생성\n",
    "result = add(3, 4)      # 람다 사용 시 () 사용\n",
    "print(result)"
   ]
  },
  {
   "cell_type": "code",
   "execution_count": 90,
   "metadata": {},
   "outputs": [
    {
     "name": "stdout",
     "output_type": "stream",
     "text": [
      "1 2\n"
     ]
    }
   ],
   "source": [
    "# 문제1\n",
    "# 괄호 안의 인자인 number1, number2를 입력값으로 받아 \n",
    "# result=(num1+num2)을 수행하고,\n",
    "# 그의 결괏값 result를 반환한 후 \n",
    "# 종료하는 이름이 average라는 함수를 정의해보자.\n",
    "\n",
    "def average(num1, num2):\n",
    "    result = num1 + num2\n",
    "    return result\n",
    "\n",
    "print(1,2)"
   ]
  },
  {
   "cell_type": "code",
   "execution_count": 91,
   "metadata": {},
   "outputs": [],
   "source": [
    "# 문제 2\n",
    "# 다음과 같은 함수가 정의되어 있을 때, \n",
    "# 다음 실행문의 결과를 예측해보자\n",
    "def print_list(num_list):\n",
    "    for n in num_list:\n",
    "        if(n !=0):\n",
    "            print(n)\n",
    "        else:\n",
    "            break\n",
    "\n",
    "print_list({1,2,3,0})"
   ]
  },
  {
   "cell_type": "code",
   "execution_count": 92,
   "metadata": {},
   "outputs": [],
   "source": [
    "# num_list에서 n이 0이 아닐때 출력,\n",
    "# 0일 때는 멈춘다\n",
    "# 1\n",
    "# 2\n",
    "# 3"
   ]
  },
  {
   "cell_type": "code",
   "execution_count": 93,
   "metadata": {},
   "outputs": [
    {
     "name": "stdout",
     "output_type": "stream",
     "text": [
      "높은 점수: 100\n",
      "3\n"
     ]
    }
   ],
   "source": [
    "# 문제3\n",
    "# 다음 소스 코드를 완성하여 \n",
    "# 가장 높은 점수가 출력되게 하는 get_max_score함수를 만드시오\n",
    "def get_max_score(*args):\n",
    "    return max(args)\n",
    "\n",
    "def get_min_score(*args):\n",
    "    return min(args)\n",
    "\n",
    "korean, english, mathematics, science = 100, 86, 81, 91\n",
    "\n",
    "max_score = get_max_score(korean, english, mathematics, science)\n",
    "print('높은 점수:', max_score)\n",
    "# 높은 점수: 100\n",
    "\n",
    "max_score = get_max_score(english, science)\n",
    "# 높은 점수: 91\n",
    "\n",
    "print(max([1,2,3]))"
   ]
  },
  {
   "cell_type": "code",
   "execution_count": 94,
   "metadata": {},
   "outputs": [],
   "source": [
    "def get_max_score(*args):\n",
    "    print(\"매개변수 길이\", len(*args))"
   ]
  },
  {
   "cell_type": "code",
   "execution_count": 118,
   "metadata": {},
   "outputs": [],
   "source": [
    "#for문 이용\n",
    "def get_min_score(*args):\n",
    "    init1 = args[0]\n",
    "    for item in args:\n",
    "         if init1 < item:     # 기존값보다 item이 크면\n",
    "             init1 = item     # 큰 값으로 init1값을 대체\n",
    "    #     else:\n",
    "    #         continue\n",
    "    return init1"
   ]
  },
  {
   "cell_type": "code",
   "execution_count": 112,
   "metadata": {},
   "outputs": [
    {
     "name": "stdout",
     "output_type": "stream",
     "text": [
      "\n"
     ]
    }
   ],
   "source": [
    "korean, english, mathematics, science = 100, 86, 81, 91\n",
    "max_score = get_min_score(korean, english, mathematics, science)\n",
    "def get_min_score(*args):\n",
    "    init1 = 101\n",
    "    for item in args:\n",
    "        if  init1 > item:\n",
    "             init1 = item\n",
    "        else:\n",
    "            continue\n",
    "    return init1\n",
    "\n",
    "print()"
   ]
  },
  {
   "cell_type": "code",
   "execution_count": 99,
   "metadata": {},
   "outputs": [
    {
     "name": "stdout",
     "output_type": "stream",
     "text": [
      "높은 점수: 100\n",
      "높은 점수: 91\n"
     ]
    }
   ],
   "source": [
    "korean, english, mathematics, science = 100, 86, 81, 91\n",
    "\n",
    "max_score = get_max_score(korean, english, mathematics, science)\n",
    "print('높은 점수:', max_score)\n",
    "# 높은 점수: 100\n",
    "\n",
    "max_score = get_max_score(english, science)\n",
    "print('높은 점수:', max_score)\n",
    "# 높은 점수: 91"
   ]
  },
  {
   "cell_type": "code",
   "execution_count": 100,
   "metadata": {},
   "outputs": [
    {
     "name": "stdout",
     "output_type": "stream",
     "text": [
      "6\n",
      "120\n"
     ]
    }
   ],
   "source": [
    "# 문제 4\n",
    "# 양의 정수 n을 입력하면 1부터 n까지 곱해주는 factorial 함수를 만들어 보세요\n",
    "# 출력 예시 -> x가 1일 때 1,  x가 2일 때 2, x가 3일때 6, x가 4일 떄 24, ...\n",
    "# 4! -> 4 * 3 * 2 * 1\n",
    "# 5! -> 5 * 4 * 3 * 2 * 1\n",
    "def factorial(x):\n",
    "    result = 1\n",
    "    for i in range(1,  x+ 1):     # 1 ~ x\n",
    "        result = result * i       # x * (x - 1) ... * 1\n",
    "\n",
    "    return result\n",
    "\n",
    "print(factorial(3))\n",
    "print(factorial(5))"
   ]
  },
  {
   "cell_type": "code",
   "execution_count": 33,
   "metadata": {},
   "outputs": [
    {
     "name": "stdout",
     "output_type": "stream",
     "text": [
      "수원 까지의 금액은 2000 입니다\n"
     ]
    }
   ],
   "source": [
    "# 문제 5\n",
    "# 서울 남부 터미널에서 춘천, 부산, 대구, 수원으로 \n",
    "# 가는 기차표를 예매하는 프로그램을 작성하려 한다.\n",
    "# 각 도시 당 5000원, 30000원, 10000원, 2000원의 비용이 든다.\n",
    "# 도시 이름을 입력하면 금액을 결정하고 출력해주는 함수를 작성해 보자.\n",
    "def cost(city):\n",
    "    dic = {'춘천':5000, '부산':30000, '대구':10000, '수원':2000}\n",
    "    # 코드 작성\n",
    "    # if city == '춘천':\n",
    "    #     print(5000)\n",
    "    # elif city == '부산':\n",
    "    #     print(30000)\n",
    "    # elif city == '대구':\n",
    "    #     print(10000)\n",
    "    # else:\n",
    "    #     print(2000)\n",
    "    print(city, \"까지의 금액은\", dic[city], \"입니다\")\n",
    "    \n",
    "city = input('춘천(운임 : 5000원) / 부산(운임 : 30000원) / 대구(운임 : 10000원) / 수원(운임 : 2000원) \\n중 한곳을 입력하세요.')\n",
    "cost(city)\n",
    "\n",
    "#춘천(운임 : 5000원) / 부산(운임 : 30000원) / 대구(운임 : 10000원) / 수원(운임 : 2000원) 중 한곳을 입력하세요.수원\n",
    "#수원 까지의 금액은 2000 입니다.\n"
   ]
  },
  {
   "cell_type": "code",
   "execution_count": 1,
   "metadata": {},
   "outputs": [
    {
     "name": "stdout",
     "output_type": "stream",
     "text": [
      "출근이 완료되었습니다.\n",
      "출근이 불가합니다.\n"
     ]
    }
   ],
   "source": [
    "# 문제6\n",
    "# 회사의 한 부서에서 출근 여부를 입력하는 프로그램을 만들려고 한다.\n",
    "# 출근한 사람이 본인의 이름을 입력하면 출근이 완료되었다고 출력해주는 함수를 작성해보자.\n",
    "def check(name):\n",
    "    list = ['suzi', 'jisu', 'jennie', 'rose', 'lisa']\n",
    "    # 코드 작성\n",
    "    # if name == \"jin\":\n",
    "    #     print(\"이름을 입력하세요: %s\" % name)\n",
    "    #     print(\"출근이 불가 합니다.\")\n",
    "    # else:\n",
    "    #     print(\"이름을 입력하세요: %s\" % name)\n",
    "    #     print(\"출근 완료되었습니다.\")\n",
    "   \n",
    "    if name in list:\n",
    "        print(\"출근이 완료되었습니다.\")\n",
    "    else:\n",
    "        print(\"출근이 불가합니다.\")\n",
    "    \n",
    "while(True):\n",
    "    name = input('이름을 입력하세요 : ')\n",
    "    if name == \"바이바이\":\n",
    "        break\n",
    "    check(name)\n",
    "    \n",
    "#이름을 입력하세요 : suzi\n",
    "#출근 완료되었습니다.\n",
    "\n",
    "#이름을 입력하세요 : jin\n",
    "#출근이 불가합니다."
   ]
  },
  {
   "cell_type": "code",
   "execution_count": 4,
   "metadata": {},
   "outputs": [
    {
     "name": "stdout",
     "output_type": "stream",
     "text": [
      "18\n"
     ]
    }
   ],
   "source": [
    "# 문제7\n",
    "# 사각형의 둘레를 구하는 함수를 작성해보고, 두변의 길이가 각각 3과 6인 사각형의 둘레를 출력해보자.\n",
    "def circle(a,b):\n",
    "    # 코드 작성\n",
    "    result = (a + b) * 2\n",
    "    return result\n",
    "\n",
    "print(circle(3,6))"
   ]
  },
  {
   "cell_type": "code",
   "execution_count": 8,
   "metadata": {},
   "outputs": [
    {
     "name": "stdout",
     "output_type": "stream",
     "text": [
      "Hello world\n"
     ]
    }
   ],
   "source": [
    "print('Hello world')"
   ]
  },
  {
   "cell_type": "code",
   "execution_count": 9,
   "metadata": {},
   "outputs": [
    {
     "name": "stdout",
     "output_type": "stream",
     "text": [
      "Mary's cosmetics\n"
     ]
    }
   ],
   "source": [
    "print(\"Mary's cosmetics\")"
   ]
  },
  {
   "cell_type": "code",
   "execution_count": 10,
   "metadata": {},
   "outputs": [
    {
     "name": "stdout",
     "output_type": "stream",
     "text": [
      "신씨가 소리 질렀다. \"도둑이야\".\n"
     ]
    }
   ],
   "source": [
    "print('신씨가 소리 질렀다. \"도둑이야\".')"
   ]
  },
  {
   "cell_type": "code",
   "execution_count": 11,
   "metadata": {},
   "outputs": [
    {
     "name": "stdout",
     "output_type": "stream",
     "text": [
      "C:\\Windows\n"
     ]
    }
   ],
   "source": [
    "print(\"C:\\Windows\")"
   ]
  },
  {
   "cell_type": "code",
   "execution_count": null,
   "metadata": {},
   "outputs": [],
   "source": [
    "print(\"안녕하세요.\\n만나서\\t\\t반갑습니다.\")\n",
    "# \\n 줄바꿈 \\t 탭 표시"
   ]
  },
  {
   "cell_type": "code",
   "execution_count": 12,
   "metadata": {},
   "outputs": [
    {
     "name": "stdout",
     "output_type": "stream",
     "text": [
      "오늘은 일요일\n"
     ]
    }
   ],
   "source": [
    "print (\"오늘은\", \"일요일\")"
   ]
  },
  {
   "cell_type": "code",
   "execution_count": 16,
   "metadata": {},
   "outputs": [
    {
     "name": "stdout",
     "output_type": "stream",
     "text": [
      "naver;kakao;samsung\n"
     ]
    }
   ],
   "source": [
    "print(\"naver\",\"kakao\",\"sk\",\"samsung\", sep = \";\")"
   ]
  },
  {
   "cell_type": "code",
   "execution_count": 17,
   "metadata": {},
   "outputs": [
    {
     "name": "stdout",
     "output_type": "stream",
     "text": [
      "naver/kakao/samsung\n"
     ]
    }
   ],
   "source": [
    "print('naver','kakao',\"sk\",'samsung', sep = '/')"
   ]
  },
  {
   "cell_type": "code",
   "execution_count": 19,
   "metadata": {},
   "outputs": [
    {
     "name": "stdout",
     "output_type": "stream",
     "text": [
      "firstsecond\n"
     ]
    }
   ],
   "source": [
    "print(\"first\", end = \"\");print(\"second\")"
   ]
  },
  {
   "cell_type": "code",
   "execution_count": 20,
   "metadata": {},
   "outputs": [
    {
     "name": "stdout",
     "output_type": "stream",
     "text": [
      "1.6666666666666667\n"
     ]
    }
   ],
   "source": [
    "print(5/3)"
   ]
  }
 ],
 "metadata": {
  "kernelspec": {
   "display_name": "base",
   "language": "python",
   "name": "python3"
  },
  "language_info": {
   "codemirror_mode": {
    "name": "ipython",
    "version": 3
   },
   "file_extension": ".py",
   "mimetype": "text/x-python",
   "name": "python",
   "nbconvert_exporter": "python",
   "pygments_lexer": "ipython3",
   "version": "3.11.7"
  }
 },
 "nbformat": 4,
 "nbformat_minor": 2
}
