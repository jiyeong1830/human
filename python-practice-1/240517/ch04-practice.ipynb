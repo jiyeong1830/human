{
 "cells": [
  {
   "cell_type": "code",
   "execution_count": 3,
   "metadata": {},
   "outputs": [
    {
     "name": "stdout",
     "output_type": "stream",
     "text": [
      "Life is too short\n"
     ]
    }
   ],
   "source": [
    "# 문제 1\n",
    "# 다음은 파일(test1.txt)에 \"Life is too short\"문자열을 저장한 후\n",
    "# 다시 그 파일을 읽어 출력하는 프로그램이다.\n",
    "# f1 = open(\"test1.txt\", 'w')\n",
    "# f1.write(\"Life is too short\")\n",
    "\n",
    "# f2 = open(\"test1.txt\", 'r')\n",
    "# print(f2.read())\n",
    "\n",
    "# 위 프로그램은 우리가 예상한 'Life is too short'라는 문장을 출력하지 않는다.\n",
    "# 우리가 예상한 값을 출력할 수 있도록 프로그램을 수정하시오.\n",
    "f1 = open(\"c:/doit/test1.txt\", 'w')\n",
    "f1.write(\"Life is too short\")\n",
    "\n",
    "f2 = open(\"test1.txt\", 'r')\n",
    "print(f2.read())"
   ]
  },
  {
   "cell_type": "code",
   "execution_count": 11,
   "metadata": {},
   "outputs": [
    {
     "name": "stdout",
     "output_type": "stream",
     "text": [
      "Life is too short\n"
     ]
    }
   ],
   "source": [
    "f1 = open(\"c:/doit/test1.txt\", 'w')\n",
    "f1.write(\"Life is too short\")\n",
    "f1.close()\n",
    "f2 = open(\"test1.txt\", 'r')\n",
    "print(f2.read())\n",
    "f2.close()"
   ]
  },
  {
   "cell_type": "code",
   "execution_count": 13,
   "metadata": {},
   "outputs": [],
   "source": [
    "# 문제2\n",
    "# 사용자의 입력을 파일(test2.txt)에 저장하는 프로그램을 작성해 보자\n",
    "# 단, 프로그램을 다시 실행하더라도 기존에 작성한 내용을 유지하고\n",
    "# 새로 입력한 내용을 추가해야 한다.\n",
    "# user_input = input(\"저장할 내용을 입력하세요:\")\n",
    "# f = open('test2.txt',  빈칸)  # <- 빈칸을 채우시오\n",
    "# f.write(user_input)\n",
    "# f.write(빈칸) # <- 입력한 내용을 줄 단위로 구분하기 위해 \n",
    "# 줄 바꿈 문자 삽입하는 코드로 채우시오\n",
    "user_input = input(\"저장할 내용을 입력하세요:\")\n",
    "f = open('test2.txt', 'a')  # <- 빈칸을 채우시오\n",
    "f.write(user_input)\n",
    "f.write(\"\\n\") # <- 입력한 내용을 줄 단위로 구분하기 위해 \n",
    "f.close()"
   ]
  },
  {
   "cell_type": "code",
   "execution_count": 46,
   "metadata": {},
   "outputs": [],
   "source": [
    "# 문제3\n",
    "# 아래와 같은 내용을 지닌 test3.txt파일이 있다.\n",
    "# ==================\n",
    "# Life is too short\n",
    "# you need java\n",
    "# ==================\n",
    "# 이 파일의 내용 중 \"java\"라는 문자열을 \"python\"으로 바꾸어 저장하는 코드를 작성하시오\n",
    "f = open('test3.txt', 'r')\n",
    "# 코드작성\n",
    "body = f.read()\n",
    "f.close()\n",
    "\n",
    "boby = body.replace(\"java\", \"python\")\n",
    "\n",
    "f = open('tewst3.txt', 'w')\n",
    "f.write(body)\n",
    "f.close()\n"
   ]
  },
  {
   "cell_type": "code",
   "execution_count": 44,
   "metadata": {},
   "outputs": [],
   "source": [
    "# 문제4\n",
    "# 아래와 같이 실행할 때 입력값을 모두 더해 출력하는 스크립트\n",
    "# myargv.py 파일을 작성하시오\n",
    "# ex) python myargv.py 1 2 3 4 5 6 7 8 9 10  엔터\n",
    "# 55\n",
    "# Hint:입력받은 문자를 int()함수 이용해서 더하기\n",
    "# import sys\n",
    "# args = sys.argv[1:]\n",
    "# result = 0\n",
    "\n",
    "# for i in args:      # i는 타입이 str\n",
    "#     result = result + int(i)\n",
    "\n",
    "# print(result)"
   ]
  },
  {
   "cell_type": "code",
   "execution_count": 14,
   "metadata": {},
   "outputs": [
    {
     "name": "stdout",
     "output_type": "stream",
     "text": [
      "500000\n"
     ]
    }
   ],
   "source": [
    "삼성전자 = 50000\n",
    "총_평가금액 = 삼성전자 * 10\n",
    "print(총_평가금액)"
   ]
  },
  {
   "cell_type": "code",
   "execution_count": 16,
   "metadata": {},
   "outputs": [
    {
     "name": "stdout",
     "output_type": "stream",
     "text": [
      "29800000000000000 <class 'int'>\n",
      "50000 <class 'int'>\n",
      "15.79 <class 'float'>\n"
     ]
    }
   ],
   "source": [
    "시가총액 = 29800000000000000\n",
    "현재가 = 50000\n",
    "PER = 15.79\n",
    "print(시가총액, type(시가총액))\n",
    "print(현재가, type(현재가))\n",
    "print(PER, type(PER))"
   ]
  },
  {
   "cell_type": "code",
   "execution_count": 19,
   "metadata": {},
   "outputs": [
    {
     "name": "stdout",
     "output_type": "stream",
     "text": [
      "Hello! python\n"
     ]
    }
   ],
   "source": [
    "s = \"Hello\"\n",
    "t = \"python\"\n",
    "print(s + \"!\",  t)"
   ]
  },
  {
   "cell_type": "code",
   "execution_count": 21,
   "metadata": {},
   "outputs": [
    {
     "data": {
      "text/plain": [
       "8"
      ]
     },
     "execution_count": 21,
     "metadata": {},
     "output_type": "execute_result"
    }
   ],
   "source": [
    "8"
   ]
  },
  {
   "cell_type": "code",
   "execution_count": 23,
   "metadata": {},
   "outputs": [
    {
     "name": "stdout",
     "output_type": "stream",
     "text": [
      "<class 'str'>\n"
     ]
    }
   ],
   "source": [
    "a = \"132\"\n",
    "print(type(a))"
   ]
  },
  {
   "cell_type": "code",
   "execution_count": 25,
   "metadata": {},
   "outputs": [
    {
     "name": "stdout",
     "output_type": "stream",
     "text": [
      "721 <class 'int'>\n"
     ]
    }
   ],
   "source": [
    "num_str = \"720\"\n",
    "num_int = int(num_str)\n",
    "print(num_int+1, type(num_int))"
   ]
  },
  {
   "cell_type": "code",
   "execution_count": 28,
   "metadata": {},
   "outputs": [
    {
     "name": "stdout",
     "output_type": "stream",
     "text": [
      "100 <class 'str'>\n"
     ]
    }
   ],
   "source": [
    "num = 100\n",
    "result = str(num)\n",
    "print(result, type(result))"
   ]
  },
  {
   "cell_type": "code",
   "execution_count": 30,
   "metadata": {},
   "outputs": [
    {
     "name": "stdout",
     "output_type": "stream",
     "text": [
      "15.79 <class 'float'>\n"
     ]
    }
   ],
   "source": [
    "data = \"15.79\"\n",
    "data = float(data)\n",
    "print(data, type(data))"
   ]
  },
  {
   "cell_type": "code",
   "execution_count": 33,
   "metadata": {},
   "outputs": [
    {
     "name": "stdout",
     "output_type": "stream",
     "text": [
      "2017\n",
      "2018\n",
      "2019\n"
     ]
    }
   ],
   "source": [
    "year = \"2020\"\n",
    "print(int(year)-3)\n",
    "print(int(year)-2)\n",
    "print(int(year)-1)"
   ]
  },
  {
   "cell_type": "code",
   "execution_count": 34,
   "metadata": {},
   "outputs": [
    {
     "name": "stdout",
     "output_type": "stream",
     "text": [
      "1749024\n"
     ]
    }
   ],
   "source": [
    "price = 48584\n",
    "print(price * 36)"
   ]
  },
  {
   "cell_type": "code",
   "execution_count": 35,
   "metadata": {},
   "outputs": [
    {
     "name": "stdout",
     "output_type": "stream",
     "text": [
      "p t\n"
     ]
    }
   ],
   "source": [
    "letters = 'python'\n",
    "print(letters[0], letters[2])"
   ]
  },
  {
   "cell_type": "code",
   "execution_count": 37,
   "metadata": {},
   "outputs": [
    {
     "name": "stdout",
     "output_type": "stream",
     "text": [
      "2210\n"
     ]
    }
   ],
   "source": [
    "license_plate = \"24가 2210\"\n",
    "print(license_plate[-4:])"
   ]
  },
  {
   "cell_type": "code",
   "execution_count": 2,
   "metadata": {},
   "outputs": [
    {
     "name": "stdout",
     "output_type": "stream",
     "text": [
      "[1, 2, 4, 5]\n"
     ]
    }
   ],
   "source": [
    "array1 = [5,1,2,4]\n",
    "array1.sort()\n",
    "print(array1)"
   ]
  }
 ],
 "metadata": {
  "kernelspec": {
   "display_name": "base",
   "language": "python",
   "name": "python3"
  },
  "language_info": {
   "codemirror_mode": {
    "name": "ipython",
    "version": 3
   },
   "file_extension": ".py",
   "mimetype": "text/x-python",
   "name": "python",
   "nbconvert_exporter": "python",
   "pygments_lexer": "ipython3",
   "version": "3.11.7"
  }
 },
 "nbformat": 4,
 "nbformat_minor": 2
}
