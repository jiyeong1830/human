{
 "cells": [
  {
   "cell_type": "code",
   "execution_count": 1,
   "metadata": {},
   "outputs": [],
   "source": [
    "# 파이썬에서 파이 처리하기\n",
    "\n",
    "# 파이썬에서 파일 읽고 쓰기\n",
    "# 엑셀 파일 -> module(바이너리(binary)파일)\n",
    "# csv< txt 등등으ㅏ 파일-> 일반 텍스트\n",
    "# csv 파일 형태 -> a,b,c,d,e,\n",
    "#                 1,2,3,4,5\n",
    "#                 1,2,4,5,6\n",
    "#                 3,4,5,6,7\n",
    "\n",
    "# 파이썬으로 파일 생성하기\n",
    "# 파일_객체 = open(파일_이름, 파일_열기_모드)\n",
    "f = open(\"새파일.txt\", 'w')\n",
    "f.close()"
   ]
  },
  {
   "cell_type": "code",
   "execution_count": 4,
   "metadata": {},
   "outputs": [],
   "source": [
    "# 파일 열기 모드\n",
    "# r\t읽기 모드: 파일을 읽기만 할 때 사용한다.\n",
    "# w\t쓰기 모드: 파일에 내용을 쓸 때 사용한다.\n",
    "# a\t추가 모드: 파일의 마지막에 새로운 내용을 추가할 때 사용한다.\n",
    "f = open(\"C:/doit/새파일.txt\", 'w')    # 파일 생성 및 열기(doit 폴더기 미리 생성되어야 함)\n",
    "f.close()                              # 파일 닫음\n",
    "# doit 폴더에서 새파일 확인\n",
    "f = open(\"C:\\\\doit\\\\새파일2.txt\", 'w') # 파일 생성 및 열기(doit 폴더기 미리 생성되어야 함)\n",
    "f.close()                              # 파일 닫음\n",
    "# doit 폴더에서 새파일 확인\n",
    "f = open(\"C:\\doit\\새파일3.txt\", 'w')   # 파일 생성 및 열기(doit 폴더기 미리 생성되어야 함)\n",
    "f.close()                              # 파일 닫음\n",
    "# doit 폴더에서 새파일 확인"
   ]
  },
  {
   "cell_type": "code",
   "execution_count": 5,
   "metadata": {},
   "outputs": [],
   "source": [
    "# 파일을 쓰기 모드로 열어 내용 쓰기\n",
    "# write_data.py\n",
    "f = open(\"C:/doit/새파일.txt\", 'w')\n",
    "# f = open(새파일.txt\", 'w')\n",
    "for i in range(1, 11):\n",
    "    data = \"%d번째 줄입니다.\\n\" % i\n",
    "    f.write(data)          # 파일에 data변수 값을 쓰게한다.\n",
    "f.close()"
   ]
  },
  {
   "cell_type": "code",
   "execution_count": 6,
   "metadata": {},
   "outputs": [
    {
     "name": "stdout",
     "output_type": "stream",
     "text": [
      "1번째 줄입니다.\n",
      "\n",
      "2번째 줄입니다.\n",
      "\n",
      "3번째 줄입니다.\n",
      "\n",
      "4번째 줄입니다.\n",
      "\n",
      "5번째 줄입니다.\n",
      "\n",
      "6번째 줄입니다.\n",
      "\n",
      "7번째 줄입니다.\n",
      "\n",
      "8번째 줄입니다.\n",
      "\n",
      "9번째 줄입니다.\n",
      "\n",
      "10번째 줄입니다.\n",
      "\n"
     ]
    }
   ],
   "source": [
    "for i in range(1, 11):\n",
    "    data = \"%d번째 줄입니다.\\n\" % i\n",
    "    print(data)\n",
    "\n",
    "# 위에는 파일에 아래는 명령 프롬프트에 출력"
   ]
  },
  {
   "cell_type": "code",
   "execution_count": 11,
   "metadata": {},
   "outputs": [
    {
     "name": "stdout",
     "output_type": "stream",
     "text": [
      "1번째 줄입니다.\n",
      "\n"
     ]
    }
   ],
   "source": [
    "# 파일을 읽는 여러 가지 방법\n",
    "\n",
    "# (1)readline 함수 이용하기\n",
    "# readline_test.py\n",
    "f = open(\"C:/doit/새파일.txt\", 'r')\n",
    "line = f.readline()   #텍스트 파일에서 현재 위치의 한 줄 읽기\n",
    "print(line)\n",
    "f.close()\n",
    "\n",
    "# readline_test.py\n",
    "# print('=' * 50)\n",
    "\n",
    "# f = open(\"새파일.txt\", 'r')\n",
    "# while True:\n",
    "#     line = f.readline()\n",
    "#     if not line: break\n",
    "#     print(line, end =\"\")\n",
    "# f.close()"
   ]
  },
  {
   "cell_type": "code",
   "execution_count": 12,
   "metadata": {},
   "outputs": [
    {
     "name": "stdout",
     "output_type": "stream",
     "text": [
      "1번째 줄입니다.\n",
      "\n",
      "2번째 줄입니다.\n",
      "\n",
      "3번째 줄입니다.\n",
      "\n",
      "4번째 줄입니다.\n",
      "\n",
      "5번째 줄입니다.\n",
      "\n",
      "6번째 줄입니다.\n",
      "\n",
      "7번째 줄입니다.\n",
      "\n",
      "8번째 줄입니다.\n",
      "\n",
      "9번째 줄입니다.\n",
      "\n",
      "10번째 줄입니다.\n",
      "\n"
     ]
    }
   ],
   "source": [
    "# (2)readlines 함수 사용하기\n",
    "# readlines.py\n",
    "f = open(\"C:/doit/새파일.txt\", 'r')\n",
    "lines = f.readlines()    # 파일의 모든 라인을 읽는다.(리턴값은 리스트로 읽는다.)\n",
    "for line in lines:\n",
    "    print(line)\n",
    "f.close()"
   ]
  },
  {
   "cell_type": "code",
   "execution_count": 13,
   "metadata": {},
   "outputs": [
    {
     "name": "stdout",
     "output_type": "stream",
     "text": [
      "1번째 줄입니다.\n",
      "2번째 줄입니다.\n",
      "3번째 줄입니다.\n",
      "4번째 줄입니다.\n",
      "5번째 줄입니다.\n",
      "6번째 줄입니다.\n",
      "7번째 줄입니다.\n",
      "8번째 줄입니다.\n",
      "9번째 줄입니다.\n",
      "10번째 줄입니다.\n"
     ]
    }
   ],
   "source": [
    "# 줄 바꿈(\\n) 문자 제거하기\n",
    "f = open(\"C:/doit/새파일.txt\", 'r')\n",
    "lines = f.readlines()\n",
    "for line in lines:\n",
    "    line = line.strip()  # 줄 끝의 줄 바꿈 문자를 제거한다.\n",
    "    print(line)\n",
    "f.close()"
   ]
  },
  {
   "cell_type": "code",
   "execution_count": 14,
   "metadata": {},
   "outputs": [
    {
     "name": "stdout",
     "output_type": "stream",
     "text": [
      "1번째 줄입니다.\n",
      "2번째 줄입니다.\n",
      "3번째 줄입니다.\n",
      "4번째 줄입니다.\n",
      "5번째 줄입니다.\n",
      "6번째 줄입니다.\n",
      "7번째 줄입니다.\n",
      "8번째 줄입니다.\n",
      "9번째 줄입니다.\n",
      "10번째 줄입니다.\n",
      "\n"
     ]
    }
   ],
   "source": [
    "# (3)read 함수 사용하기\n",
    "# read.py\n",
    "f = open(\"C:/doit/새파일.txt\", 'r')\n",
    "data = f.read()\n",
    "print(data)\n",
    "f.close()"
   ]
  },
  {
   "cell_type": "code",
   "execution_count": 15,
   "metadata": {},
   "outputs": [
    {
     "name": "stdout",
     "output_type": "stream",
     "text": [
      "1번째 줄입니다.\n",
      "\n",
      "2번째 줄입니다.\n",
      "\n",
      "3번째 줄입니다.\n",
      "\n",
      "4번째 줄입니다.\n",
      "\n",
      "5번째 줄입니다.\n",
      "\n",
      "6번째 줄입니다.\n",
      "\n",
      "7번째 줄입니다.\n",
      "\n",
      "8번째 줄입니다.\n",
      "\n",
      "9번째 줄입니다.\n",
      "\n",
      "10번째 줄입니다.\n",
      "\n"
     ]
    }
   ],
   "source": [
    "# (4)파일 객체를 for 문과 함께 사용하기\n",
    "# read_for.py\n",
    "f = open(\"C:/doit/새파일.txt\", 'r')\n",
    "for line in f:\n",
    "    print(line)\n",
    "f.close()"
   ]
  },
  {
   "cell_type": "code",
   "execution_count": 17,
   "metadata": {},
   "outputs": [],
   "source": [
    "# (5)파일에 새로운 내용 추가하기\n",
    "# add_data.py\n",
    "f = open(\"C:/doit/새파일.txt\",'a')\n",
    "for i in range(11, 20):\n",
    "    data = \"%d번째 줄입니다.\\n\" % i\n",
    "    f.write(data)\n",
    "f.close()"
   ]
  },
  {
   "cell_type": "code",
   "execution_count": 18,
   "metadata": {},
   "outputs": [],
   "source": [
    "# (6)with 문과 함께 사용하기 -> 더이상  close하지 않아도 됨\n",
    "f = open(\"foo.txt\", 'w')\n",
    "f.write(\"Life is too short, you need python\")\n",
    "f.close()"
   ]
  }
 ],
 "metadata": {
  "kernelspec": {
   "display_name": "base",
   "language": "python",
   "name": "python3"
  },
  "language_info": {
   "codemirror_mode": {
    "name": "ipython",
    "version": 3
   },
   "file_extension": ".py",
   "mimetype": "text/x-python",
   "name": "python",
   "nbconvert_exporter": "python",
   "pygments_lexer": "ipython3",
   "version": "3.11.7"
  }
 },
 "nbformat": 4,
 "nbformat_minor": 2
}
