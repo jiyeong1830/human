{
 "cells": [
  {
   "cell_type": "code",
   "execution_count": 25,
   "metadata": {},
   "outputs": [
    {
     "name": "stdout",
     "output_type": "stream",
     "text": [
      "3\n",
      "7\n",
      "3\n",
      "7\n",
      "3\n",
      "10\n",
      "3\n",
      "7\n",
      "3\n",
      "10\n"
     ]
    }
   ],
   "source": [
    "# 클래스 학습\n",
    "# 기존에 배운 add함수를 이용\n",
    "\n",
    "# calculator.py\n",
    "result = 0\n",
    "\n",
    "def add(num):\n",
    "    global result\n",
    "    result += num         # 결괏값(result)에 입력값(num) 더하기\n",
    "    return result         # 결괏값 리턴\n",
    "\n",
    "print(add(3))             # 0 + 3 -> 3\n",
    "print(add(4))             # 3 + 4 -> 7\n",
    "\n",
    "# calculator2.py\n",
    "result1 = 0\n",
    "result2 = 0\n",
    "\n",
    "def add1(num):             # 계산기1\n",
    "    global result1\n",
    "    result1 += num\n",
    "    return result1\n",
    "\n",
    "def add2(num):             # 계산기2\n",
    "    global result2\n",
    "    result2 += num\n",
    "    return result2\n",
    "# 매소드들의 순서 상관 X\n",
    "\n",
    "print(add1(3))              # 0 + 3 -> 3\n",
    "print(add1(4))              # 3 + 4 -> 7\n",
    "print(add2(3))              # 0 + 3 -> 3\n",
    "print(add2(7))              # 3 + 7 -> 10\n",
    "# 노가다\n",
    "\n",
    "# calculator3.py\n",
    "# Calculator 클래스 생성\n",
    "class Calculator:\n",
    "    def __init__(self):      # 생성자\n",
    "        self.result = 0      # result 변수룰 0으로 초기화\n",
    "\n",
    "    def add(self, num):      # add 일반함수\n",
    "        self.result = self.result + num\n",
    "        return self.result\n",
    "\n",
    "    def add(self, num):      # sub 일반함수\n",
    "        self.result = self.result + num\n",
    "        return self.result\n",
    "\n",
    "cal1 = Calculator()          # 객체 생성 (실제 붕어빵)하여 cal1변수에 대입\n",
    "cal2 = Calculator()          \n",
    "cal3 = Calculator()          \n",
    "cal4 = Calculator()\n",
    "cal5 = Calculator()\n",
    "\n",
    "a = cal1.add(3)               # class Carculator 안에 있는 add 함수를 호출\n",
    "print(a)       \n",
    "a = cal1.add(4) \n",
    "print(a)          \n",
    "a = cal2.add(3)\n",
    "print(a)\n",
    "a = cal2.add(7)\n",
    "print(a)"
   ]
  },
  {
   "cell_type": "code",
   "execution_count": 1,
   "metadata": {},
   "outputs": [
    {
     "name": "stdout",
     "output_type": "stream",
     "text": [
      "<class '__main__.FourCal'>\n",
      "a.first 4\n",
      "a.second 2\n",
      "b.first 3\n",
      "a.first 4\n",
      "6\n",
      "8\n",
      "2\n",
      "2.0\n"
     ]
    }
   ],
   "source": [
    "class FourCal():\n",
    "    def setdata(self, first, second):\n",
    "        self.first = first      # self는 javascript의 this와 비슷하다.\n",
    "        self.second = second\n",
    "\n",
    "    def add(self):\n",
    "        result = self.first + self.second\n",
    "        return result\n",
    "\n",
    "    def sub(self):\n",
    "        result =self.first - self.second\n",
    "        return result\n",
    "    \n",
    "    def mul(self):\n",
    "        result = self.first * self.second\n",
    "        return result\n",
    "    \n",
    "    def div(self):\n",
    "        result = self = self.first / self.second\n",
    "        return result\n",
    "    \n",
    "a = FourCal()\n",
    "print(type(a))\n",
    "\n",
    "a.setdata(4, 2)\n",
    "print('a.first', a.first)\n",
    "print('a.second', a.second)\n",
    "FourCal.setdata(a, 4, 2)\n",
    "\n",
    "b = FourCal()\n",
    "b.setdata(3,7)\n",
    "print('b.first', b.first)\n",
    "print('a.first', a.first)\n",
    "\n",
    "print(a.add())\n",
    "print(a.mul())\n",
    "print(a.sub())\n",
    "print(a.div())"
   ]
  },
  {
   "cell_type": "code",
   "execution_count": 3,
   "metadata": {},
   "outputs": [],
   "source": [
    "# constructor = class Calculator:\n",
    "#               def __init__(self):      # 생성자\n",
    "#                   self.result = 0      # result 변수룰 0으로 초기화"
   ]
  },
  {
   "cell_type": "code",
   "execution_count": 2,
   "metadata": {},
   "outputs": [],
   "source": [
    "# a = FourCal()     # 생성자 __init__ 함수가 실행됨\n",
    "# a.add()"
   ]
  },
  {
   "cell_type": "code",
   "execution_count": 1,
   "metadata": {},
   "outputs": [],
   "source": [
    "# a = FourCal(4, 2)\n",
    "# print(a.first)\n",
    "# print(a.second)\n",
    "# print(a.add())\n",
    "# print(a.div())"
   ]
  }
 ],
 "metadata": {
  "kernelspec": {
   "display_name": "base",
   "language": "python",
   "name": "python3"
  },
  "language_info": {
   "codemirror_mode": {
    "name": "ipython",
    "version": 3
   },
   "file_extension": ".py",
   "mimetype": "text/x-python",
   "name": "python",
   "nbconvert_exporter": "python",
   "pygments_lexer": "ipython3",
   "version": "3.11.7"
  }
 },
 "nbformat": 4,
 "nbformat_minor": 2
}
