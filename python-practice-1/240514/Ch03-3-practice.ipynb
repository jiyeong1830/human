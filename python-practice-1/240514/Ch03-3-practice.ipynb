{
 "cells": [
  {
   "cell_type": "code",
   "execution_count": 94,
   "metadata": {},
   "outputs": [
    {
     "name": "stdout",
     "output_type": "stream",
     "text": [
      "*\n",
      "**\n",
      "***\n",
      "****\n",
      "*****\n",
      "*\n",
      "**\n",
      "***\n",
      "****\n",
      "*****\n",
      "*\n",
      "**\n",
      "***\n",
      "****\n",
      "*****\n"
     ]
    }
   ],
   "source": [
    "# for문 별 그리기 문제\n",
    "#전제조건\n",
    "# *을 그리는 print함수안의 *는 무조건 1개만 되도록 한다.\n",
    "\n",
    "\n",
    "# 문제 1 \n",
    "# for문 혹은이중 for문을 이용해서 알와 같은 별을 그리는 코드를 작성하시오\n",
    "# *\n",
    "# **\n",
    "# ***\n",
    "# ****\n",
    "# *****\n",
    "\n",
    "# for a in [1,2,3,4,5]:\n",
    "#     for b in [1,2,3]:\n",
    "#         print('*')\n",
    "\n",
    "for a in range(1,6): \n",
    "    print(\"*\" * a)\n",
    "\n",
    "for a in range(5):       # 0 ~ 4\n",
    "    print(\"*\" * (a+1))\n",
    "\n",
    "for a in range(1,6):     # 1 ~ 5\n",
    "    for b in range(a):\n",
    "        print(\"*\", end = \"\")\n",
    "    print()              # 한줄 띄우기"
   ]
  },
  {
   "cell_type": "code",
   "execution_count": 97,
   "metadata": {},
   "outputs": [
    {
     "name": "stdout",
     "output_type": "stream",
     "text": [
      "     *\n",
      "    **\n",
      "   ***\n",
      "  ****\n",
      " *****\n",
      "    *\n",
      "   **\n",
      "  ***\n",
      " ****\n",
      "*****\n"
     ]
    }
   ],
   "source": [
    "# 문제 2\n",
    "# for문 혹은 이중 for문을 이용해서 아래와 같은 별을 그리는 코드를 작성하시오\n",
    "#     *\n",
    "#    **\n",
    "#   ***\n",
    "#  ****\n",
    "# *****\n",
    "\n",
    "for a in range(1,6):\n",
    "    print((6 - a) * \" \" + a * \"*\")\n",
    "\n",
    "for a in range(5):         # 0 ~ 4\n",
    "    print(\" \" * (5 - (a + 1)), end = \"\")\n",
    "    print(\"*\" * (a + 1))"
   ]
  },
  {
   "cell_type": "code",
   "execution_count": 101,
   "metadata": {},
   "outputs": [
    {
     "name": "stdout",
     "output_type": "stream",
     "text": [
      "*****\n",
      "****\n",
      "***\n",
      "**\n",
      "*\n",
      "***** \n",
      "****  \n",
      "***   \n",
      "**    \n",
      "*     \n",
      "*****\n",
      "****\n",
      "***\n",
      "**\n",
      "*\n"
     ]
    }
   ],
   "source": [
    "# 문제 3\n",
    "# for문 혹은이중 for문을 이용해서 알와 같은 별을 그리는 코드를 작성하시오\n",
    "# *****\n",
    "# ****\n",
    "# ***\n",
    "# **\n",
    "# *\n",
    "\n",
    "for a in range(1,6):\n",
    "    print(\"*\" * (6 - a))     # 6.5.4.3.2.1 반대로 출력\n",
    "\n",
    "for a in range(1,6):         # 1 ~ 5\n",
    "    for b in range(6 - a):     # 1 ~ 5, *를 출력\n",
    "        print(\"*\", end =\"\")\n",
    "    for b in range(a):     # a값에 따라 b가 변함 -> 빈 공백 출력\n",
    "        print(\" \", end = \"\")\n",
    "    print()\n",
    "\n",
    "for a in range(1,6): \n",
    "    for b in range(6 - a):\n",
    "        print(\"*\", end =\"\")\n",
    "    print()"
   ]
  },
  {
   "cell_type": "code",
   "execution_count": 117,
   "metadata": {},
   "outputs": [
    {
     "name": "stdout",
     "output_type": "stream",
     "text": [
      "    *\n",
      "   ***\n",
      "  *****\n",
      " *******\n",
      "*********\n"
     ]
    }
   ],
   "source": [
    "# 문제 4\n",
    "# for문 혹은이중 for문을 이용해서 알와 같은 별을 그리는 코드를 작성하시오\n",
    "#     *\n",
    "#    ***\n",
    "#   *****\n",
    "#  *******\n",
    "# *********\n",
    "b = 4\n",
    "for a in range(1,10,2):        \n",
    "    print(\" \" * b + \"*\" * a )\n",
    "    b -= 1"
   ]
  },
  {
   "cell_type": "code",
   "execution_count": null,
   "metadata": {},
   "outputs": [],
   "source": [
    "for a in range(1,6):\n",
    "    for b in range(5 - a):       # 줄 라인 a에 따라 빈 공백 출력\n",
    "        print(\" \", end = \"\")\n",
    "    for b in range(2 * a - 1):   # 홀수 개수 만큼 * 출력\n",
    "        print(\"*\", end = \"\") "
   ]
  },
  {
   "cell_type": "code",
   "execution_count": 29,
   "metadata": {},
   "outputs": [
    {
     "name": "stdout",
     "output_type": "stream",
     "text": [
      "-----\n",
      "-----\n",
      "-----\n",
      "-----\n"
     ]
    }
   ],
   "source": [
    "for a in [1,2,3,4]:\n",
    "    print(\"-----\")"
   ]
  },
  {
   "cell_type": "code",
   "execution_count": 125,
   "metadata": {},
   "outputs": [
    {
     "name": "stdout",
     "output_type": "stream",
     "text": [
      "num: 25\n"
     ]
    }
   ],
   "source": [
    "numbers = [1, 3, 5, 7, 9]\n",
    "total = 0\n",
    "for num in numbers:\n",
    "    total += num\n",
    "print(\"num:\", total)"
   ]
  },
  {
   "cell_type": "code",
   "execution_count": 263,
   "metadata": {},
   "outputs": [
    {
     "name": "stdout",
     "output_type": "stream",
     "text": [
      "22\n",
      "[35, 12, 27, 8, 14, 25]\n"
     ]
    }
   ],
   "source": [
    "# 문제 5\n",
    "# 로또번호 생성 프로그랜 제작. 로또생성 프로그램은 아래 조건을 만족해야 한다.\n",
    "# (1) 1~45 숫자 중 6개의 숫자가 나와야 한다.\n",
    "# (2) 중복된 숫자가 나와서는 안된다.\n",
    "\n",
    "import random\n",
    "\n",
    "print( random.randint(1,45))\n",
    "\n",
    "a = []\n",
    "for i in range(6): # 0 ~ 5(6개)\n",
    "    a.append(random.randint(1, 45))\n",
    "    if i not in a:\n",
    "       continue\n",
    "print(a)"
   ]
  },
  {
   "cell_type": "code",
   "execution_count": 278,
   "metadata": {},
   "outputs": [
    {
     "name": "stdout",
     "output_type": "stream",
     "text": [
      "7\n",
      "[35, 4, 42, 43, 16, 31]\n"
     ]
    }
   ],
   "source": [
    "import random\n",
    "\n",
    "print( random.randint(1,45))\n",
    "\n",
    "a = []\n",
    "while 1==1:\n",
    "    if len(a) == 6:\n",
    "        break\n",
    "    else:\n",
    "        a =[]\n",
    "        for i in range(6): # 0 ~ 5(6개)\n",
    "            a.append(random.randint(1, 45))\n",
    "        a = list(set(a))\n",
    "        if len(a) < 6:\n",
    "            print(\"중복된 로또번호의 리스트\", ㅁ)\n",
    "print(a)"
   ]
  },
  {
   "cell_type": "code",
   "execution_count": 267,
   "metadata": {},
   "outputs": [
    {
     "name": "stdout",
     "output_type": "stream",
     "text": [
      "[1, 22, 34, 11, 40, 9]\n"
     ]
    }
   ],
   "source": [
    "import random\n",
    "\n",
    "result = []\n",
    "while len(result) < 6:\n",
    "    num = random.randint(1, 45)  \n",
    "    if num not in result:  \n",
    "        result.append(num)\n",
    "print(result) "
   ]
  }
 ],
 "metadata": {
  "kernelspec": {
   "display_name": "base",
   "language": "python",
   "name": "python3"
  },
  "language_info": {
   "codemirror_mode": {
    "name": "ipython",
    "version": 3
   },
   "file_extension": ".py",
   "mimetype": "text/x-python",
   "name": "python",
   "nbconvert_exporter": "python",
   "pygments_lexer": "ipython3",
   "version": "3.11.7"
  }
 },
 "nbformat": 4,
 "nbformat_minor": 2
}
